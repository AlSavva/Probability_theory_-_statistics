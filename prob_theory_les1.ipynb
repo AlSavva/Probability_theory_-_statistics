{
 "cells": [
  {
   "cell_type": "markdown",
   "metadata": {
    "id": "G2wMw7vtsFIu"
   },
   "source": [
    "## Урок 1. ДЗ (17.02.2021)\n",
    "## Теория вероятности\n",
    "### Случайные события. Условная вероятность. Формула Байеса.  Независимые испытания"
   ]
  },
  {
   "cell_type": "code",
   "execution_count": null,
   "metadata": {
    "id": "Rc3tqLLnsFIw"
   },
   "outputs": [],
   "source": [
    "**Случайное событие** — то, которое при определенных условиях может произойти или нет.\n",
    "\n"
   ]
  },
  {
   "cell_type": "markdown",
   "metadata": {
    "id": "FC9PxSnisFIx"
   },
   "source": [
    "Примеры случайного события:\n",
    "1. При броске двух игральных костей на одной выпало число 1, а на другой — 2.\n",
    "2. Клиент банка не вернул кредит.\n",
    "3. Температура воздуха в Москве за последние десять дней не превышала 29 градусов по Цельсию.\n",
    "4. Монету подбросили сто раз, орел выпал в 55 случаях. "
   ]
  },
  {
   "cell_type": "markdown",
   "metadata": {
    "id": "tkBVPAfesFIz"
   },
   "source": [
    "Событие можно называть **достоверным**, если в результате испытания оно обязательно произойдет.\n",
    "\n",
    "**Невозможное** событие не произойдет никогда."
   ]
  },
  {
   "cell_type": "markdown",
   "metadata": {
    "id": "WLQz_jrfsFI0"
   },
   "source": [
    "Примеры достоверного события:\n",
    "1. На игральной кости выпало число, не превышающее 6.\n",
    "2. Подбросили монету, и выпал либо орел, либо решка.\n",
    "3. Монету подбросили стократно, и решка выпала не более 100 раз."
   ]
  },
  {
   "cell_type": "markdown",
   "metadata": {
    "id": "iHTQaZmusFI2"
   },
   "source": [
    "Примеры невозможного события:\n",
    "1. Две игральные кости бросили один раз, и сумма выпавших чисел составила 15.\n",
    "2. Монету подбросили стократно, и решка выпала 55 раз, а орел — 56.\n",
    "3. Три игральные кости бросили один раз, и сумма выпавших чисел составила 2."
   ]
  },
  {
   "cell_type": "markdown",
   "metadata": {
    "id": "vLMk77MjsFI3"
   },
   "source": [
    "Для случайного события есть понятие **относительной частоты** — это отношение количества состоявшихся событий к общему числу испытаний:"
   ]
  },
  {
   "cell_type": "markdown",
   "metadata": {
    "id": "wc6A4Ec4sFI4"
   },
   "source": [
    "$$W(A) = \\frac{m}{n}$$"
   ]
  },
  {
   "cell_type": "markdown",
   "metadata": {
    "id": "0DfzFHbLsFI5"
   },
   "source": [
    "В формуле $W(A)$ — это относительная частота события $A$;\n",
    "\n",
    "$m$ — число состоявшихся событий $A$;\n",
    "\n",
    "$n$ — общее число испытаний."
   ]
  },
  {
   "cell_type": "markdown",
   "metadata": {
    "id": "kB3g50kmwvAh"
   },
   "source": [
    "Рассмотрим примеры случайных событий."
   ]
  },
  {
   "cell_type": "markdown",
   "metadata": {
    "id": "9c-YkL7fwvAk"
   },
   "source": [
    "**Пример 1**"
   ]
  },
  {
   "cell_type": "markdown",
   "metadata": {
    "id": "1_9_LCYmsFJC"
   },
   "source": [
    "Смоделируем 60-кратное подбрасывание игральной кости с помощью функции [random.randint](https://docs.scipy.org/doc/numpy-1.15.1/reference/generated/numpy.random.randint.html) пакета **numpy**, то есть $n$ = 60.\n",
    "\n",
    "Событием $A$ будем считать выпадение числа 3 и найдем его относительную частоту."
   ]
  },
  {
   "cell_type": "code",
   "execution_count": null,
   "metadata": {
    "colab": {
     "base_uri": "https://localhost:8080/"
    },
    "id": "hCLkAkshsFJE",
    "outputId": "a643d6de-bf0c-4d60-b373-e5ce08877e5d"
   },
   "outputs": [
    {
     "data": {
      "text/plain": [
       "array([3, 2, 1, 3, 2, 2, 6, 1, 3, 6, 2, 2, 1, 5, 3, 5, 5, 1, 1, 1, 5, 5,\n",
       "       1, 2, 4, 6, 4, 4, 5, 3, 2, 6, 6, 5, 3, 3, 6, 3, 2, 2, 2, 1, 1, 5,\n",
       "       4, 1, 1, 4, 6, 1, 3, 4, 5, 2, 5, 4, 5, 6, 2, 5])"
      ]
     },
     "execution_count": 1,
     "metadata": {
      "tags": []
     },
     "output_type": "execute_result"
    }
   ],
   "source": [
    "import numpy as np\n",
    "\n",
    "n = 60\n",
    "\n",
    "b = np.random.randint(1, 7, size=n)\n",
    "b"
   ]
  },
  {
   "cell_type": "markdown",
   "metadata": {
    "id": "cKqcXnQksFJN"
   },
   "source": [
    "Вычислим мощность подмножества, где в результате испытания выпадало число 3, то есть наблюдалось событие $A$:"
   ]
  },
  {
   "cell_type": "markdown",
   "metadata": {
    "id": "moNrKvATNyqR"
   },
   "source": []
  },
  {
   "cell_type": "code",
   "execution_count": null,
   "metadata": {
    "colab": {
     "base_uri": "https://localhost:8080/"
    },
    "id": "R1XSM8SPsFJO",
    "outputId": "0b9625f4-f929-4f72-9121-e63126db2181"
   },
   "outputs": [
    {
     "data": {
      "text/plain": [
       "9"
      ]
     },
     "execution_count": 8,
     "metadata": {
      "tags": []
     },
     "output_type": "execute_result"
    }
   ],
   "source": [
    "m = len(b[b==3])\n",
    "m"
   ]
  },
  {
   "cell_type": "markdown",
   "metadata": {
    "id": "YRkBCTgosFJV"
   },
   "source": [
    "Теперь можем вычислить относительную частоту события $A$:"
   ]
  },
  {
   "cell_type": "code",
   "execution_count": null,
   "metadata": {
    "colab": {
     "base_uri": "https://localhost:8080/"
    },
    "id": "Lxfgfn5CsFJV",
    "outputId": "eb0b7628-84db-4df9-a045-1c881f00a09c"
   },
   "outputs": [
    {
     "data": {
      "text/plain": [
       "0.15"
      ]
     },
     "execution_count": 9,
     "metadata": {
      "tags": []
     },
     "output_type": "execute_result"
    }
   ],
   "source": [
    "W = m / n\n",
    "W"
   ]
  },
  {
   "cell_type": "markdown",
   "metadata": {
    "id": "xcJc6quGsFJZ"
   },
   "source": [
    "**Пример 2**"
   ]
  },
  {
   "cell_type": "markdown",
   "metadata": {
    "id": "grrDgheusFJb"
   },
   "source": [
    "Разберем более сложный пример. Смоделируем ситуацию, когда бросают две игральные кости.\n",
    "\n",
    "При этом будем находить частоту случайного события $B$, при котором на первой кости выпало 1, а на второй — 2. \n",
    "\n",
    "Проведем для этого 360 испытаний. Сразу зададим число $n$:"
   ]
  },
  {
   "cell_type": "code",
   "execution_count": null,
   "metadata": {
    "id": "ZgdkvS6JsFJd"
   },
   "outputs": [],
   "source": [
    "n = 360"
   ]
  },
  {
   "cell_type": "code",
   "execution_count": null,
   "metadata": {
    "id": "tkrxw9XzqfOt"
   },
   "outputs": [],
   "source": []
  },
  {
   "cell_type": "code",
   "execution_count": null,
   "metadata": {
    "id": "G-SUa6U4sFJf"
   },
   "outputs": [],
   "source": [
    "c = np.random.randint(1, 7, size=n)\n",
    "d = np.random.randint(1, 7, size=n)"
   ]
  },
  {
   "cell_type": "code",
   "execution_count": null,
   "metadata": {
    "colab": {
     "base_uri": "https://localhost:8080/"
    },
    "id": "gSc8u_8qsFJi",
    "outputId": "4edca6d3-613e-419c-fb8b-02d40b441b12"
   },
   "outputs": [
    {
     "data": {
      "text/plain": [
       "array([2, 2, 4, 3, 6, 5, 3, 5, 3, 3, 2, 3, 4, 2, 2, 6, 5, 4, 5, 5, 5, 2,\n",
       "       4, 4, 1, 1, 5, 3, 2, 6, 3, 6, 2, 1, 5, 6, 2, 6, 2, 3, 5, 4, 1, 2,\n",
       "       3, 2, 5, 3, 3, 1, 3, 2, 3, 6, 6, 1, 4, 1, 5, 3, 4, 5, 3, 3, 1, 1,\n",
       "       4, 5, 6, 6, 3, 4, 6, 3, 2, 1, 4, 5, 1, 5, 5, 4, 5, 4, 1, 5, 3, 5,\n",
       "       3, 2, 6, 2, 6, 1, 3, 5, 2, 4, 4, 4, 1, 5, 3, 2, 4, 5, 2, 6, 6, 6,\n",
       "       5, 4, 4, 4, 2, 5, 1, 5, 4, 6, 3, 1, 3, 1, 4, 6, 3, 4, 1, 6, 5, 2,\n",
       "       4, 5, 6, 3, 6, 2, 5, 3, 3, 1, 1, 4, 2, 3, 5, 3, 6, 6, 5, 3, 2, 6,\n",
       "       1, 1, 6, 5, 1, 3, 4, 5, 2, 5, 4, 5, 3, 5, 2, 4, 5, 4, 1, 3, 1, 1,\n",
       "       5, 1, 6, 3, 3, 6, 6, 4, 4, 2, 3, 4, 3, 2, 1, 2, 4, 4, 3, 4, 3, 5,\n",
       "       4, 1, 3, 1, 3, 5, 5, 2, 1, 5, 4, 6, 1, 4, 5, 6, 1, 2, 2, 1, 3, 3,\n",
       "       3, 1, 2, 3, 2, 6, 2, 3, 5, 4, 6, 3, 6, 1, 4, 4, 5, 3, 1, 2, 6, 3,\n",
       "       5, 5, 3, 4, 4, 5, 3, 1, 3, 1, 4, 6, 2, 6, 6, 3, 3, 3, 6, 1, 2, 3,\n",
       "       1, 5, 6, 3, 1, 6, 2, 4, 6, 3, 3, 1, 3, 1, 2, 6, 3, 4, 5, 3, 5, 4,\n",
       "       6, 5, 6, 4, 2, 5, 4, 1, 5, 1, 1, 1, 3, 6, 6, 1, 3, 4, 4, 1, 3, 2,\n",
       "       2, 6, 5, 2, 4, 1, 6, 5, 3, 1, 5, 3, 3, 6, 5, 6, 3, 3, 5, 6, 6, 5,\n",
       "       5, 1, 1, 1, 6, 1, 6, 5, 3, 4, 3, 2, 2, 2, 5, 5, 2, 1, 5, 4, 1, 3,\n",
       "       2, 3, 3, 1, 1, 2, 2, 3])"
      ]
     },
     "execution_count": 12,
     "metadata": {
      "tags": []
     },
     "output_type": "execute_result"
    }
   ],
   "source": [
    "c"
   ]
  },
  {
   "cell_type": "code",
   "execution_count": null,
   "metadata": {
    "colab": {
     "base_uri": "https://localhost:8080/"
    },
    "id": "wUV65YC_sFJk",
    "outputId": "c754fe9d-6f1a-4b66-bc8b-74b5db0caa70"
   },
   "outputs": [
    {
     "data": {
      "text/plain": [
       "array([4, 4, 2, 4, 6, 2, 5, 1, 2, 1, 1, 4, 6, 5, 6, 4, 6, 4, 2, 3, 6, 1,\n",
       "       2, 6, 3, 6, 1, 3, 6, 3, 1, 2, 4, 2, 6, 1, 2, 3, 2, 5, 3, 4, 2, 1,\n",
       "       4, 6, 5, 4, 1, 5, 5, 1, 3, 2, 4, 3, 4, 2, 2, 5, 5, 3, 3, 2, 2, 4,\n",
       "       2, 6, 1, 5, 6, 2, 6, 3, 3, 6, 4, 3, 4, 4, 2, 4, 6, 6, 2, 2, 1, 2,\n",
       "       5, 5, 3, 6, 4, 2, 6, 2, 4, 2, 5, 6, 5, 2, 2, 5, 4, 1, 4, 6, 5, 5,\n",
       "       3, 3, 1, 2, 4, 5, 6, 4, 5, 6, 3, 3, 4, 5, 3, 5, 5, 3, 4, 5, 1, 3,\n",
       "       4, 1, 4, 2, 1, 6, 5, 6, 3, 5, 2, 3, 5, 3, 5, 3, 4, 1, 6, 6, 5, 4,\n",
       "       2, 6, 6, 2, 3, 4, 6, 6, 5, 6, 3, 3, 4, 4, 6, 5, 2, 1, 3, 5, 6, 1,\n",
       "       1, 6, 6, 5, 3, 1, 6, 5, 3, 5, 5, 4, 5, 2, 5, 4, 6, 3, 5, 1, 4, 4,\n",
       "       4, 2, 3, 5, 2, 5, 3, 6, 3, 4, 4, 2, 3, 5, 2, 1, 5, 3, 6, 5, 1, 3,\n",
       "       4, 6, 2, 1, 2, 2, 2, 3, 1, 4, 4, 4, 1, 2, 6, 2, 4, 6, 2, 6, 1, 6,\n",
       "       6, 1, 2, 6, 1, 3, 4, 6, 1, 4, 4, 3, 1, 3, 5, 3, 5, 2, 2, 6, 2, 4,\n",
       "       4, 3, 6, 6, 3, 6, 6, 3, 5, 3, 3, 1, 6, 4, 1, 6, 5, 2, 2, 6, 5, 5,\n",
       "       4, 6, 6, 5, 2, 1, 4, 5, 5, 1, 1, 2, 3, 4, 5, 1, 5, 4, 5, 2, 4, 2,\n",
       "       2, 1, 4, 4, 5, 4, 2, 5, 4, 1, 4, 6, 6, 1, 5, 6, 1, 3, 2, 3, 3, 4,\n",
       "       2, 5, 3, 4, 6, 5, 2, 3, 5, 1, 1, 3, 3, 2, 6, 5, 3, 4, 2, 4, 4, 3,\n",
       "       5, 5, 4, 6, 4, 1, 6, 6])"
      ]
     },
     "execution_count": 13,
     "metadata": {
      "tags": []
     },
     "output_type": "execute_result"
    }
   ],
   "source": [
    "d"
   ]
  },
  {
   "cell_type": "markdown",
   "metadata": {
    "id": "ATgZiDOgsFJm"
   },
   "source": [
    "Числа, стоящие на одной позиции в массивах $c$ и $d$, будем считать результатами, полученными в одном испытании.\n",
    "\n",
    "В первом испытании на игральной кости № 1 выпало число $c[0]$, а на № 2  — $d[0]$."
   ]
  },
  {
   "cell_type": "code",
   "execution_count": null,
   "metadata": {
    "colab": {
     "base_uri": "https://localhost:8080/"
    },
    "id": "SkEtXZxHsFJn",
    "outputId": "ee570d7f-42f0-4ee9-fb5f-734b66fdd19e"
   },
   "outputs": [
    {
     "data": {
      "text/plain": [
       "2"
      ]
     },
     "execution_count": 14,
     "metadata": {
      "tags": []
     },
     "output_type": "execute_result"
    }
   ],
   "source": [
    "c[0]"
   ]
  },
  {
   "cell_type": "code",
   "execution_count": null,
   "metadata": {
    "colab": {
     "base_uri": "https://localhost:8080/"
    },
    "id": "rPDumAessFJq",
    "outputId": "65544d90-93dc-4a6e-8903-f0201274fd94"
   },
   "outputs": [
    {
     "data": {
      "text/plain": [
       "4"
      ]
     },
     "execution_count": 15,
     "metadata": {
      "tags": []
     },
     "output_type": "execute_result"
    }
   ],
   "source": [
    "d[0]"
   ]
  },
  {
   "cell_type": "markdown",
   "metadata": {
    "id": "7iVpKBCasFJs"
   },
   "source": [
    "Посчитаем число случав, когда в одном испытании на первой игральной кости выпало число 1, а на второй — 2."
   ]
  },
  {
   "cell_type": "code",
   "execution_count": null,
   "metadata": {
    "colab": {
     "base_uri": "https://localhost:8080/"
    },
    "id": "-7KFNSGLsFJu",
    "outputId": "3e36667a-7953-4e6d-d1bd-19d885ebfbc0"
   },
   "outputs": [
    {
     "data": {
      "text/plain": [
       "8"
      ]
     },
     "execution_count": 10,
     "metadata": {
      "tags": []
     },
     "output_type": "execute_result"
    }
   ],
   "source": [
    "a = c[(c==1) & (d==2)]\n",
    "a\n",
    "type(a)\n",
    "m = len(a)\n",
    "m"
   ]
  },
  {
   "cell_type": "markdown",
   "metadata": {
    "id": "EIbB0Cy6sFJw"
   },
   "source": [
    "Вычислим относительную частоту события $B$:"
   ]
  },
  {
   "cell_type": "code",
   "execution_count": null,
   "metadata": {
    "colab": {
     "base_uri": "https://localhost:8080/"
    },
    "id": "yt9Mv6kxsFJx",
    "outputId": "e764a9d0-40de-45e8-de74-f1d5482d4fec"
   },
   "outputs": [
    {
     "data": {
      "text/plain": [
       "0.022222222222222223"
      ]
     },
     "execution_count": 11,
     "metadata": {
      "tags": []
     },
     "output_type": "execute_result"
    }
   ],
   "source": [
    "W = m / n\n",
    "W"
   ]
  },
  {
   "cell_type": "markdown",
   "metadata": {
    "id": "9qZhfDGUsFJz"
   },
   "source": [
    "#### Статистическая вероятность"
   ]
  },
  {
   "cell_type": "markdown",
   "metadata": {
    "id": "Jg88f4D6sFJ0"
   },
   "source": [
    "При достаточно большом количестве испытаний $n$ величина относительной частоты $W$ будет стремиться к конкретному числу. Оно называется **статистической вероятностью** и обозначается как $P(A)$:"
   ]
  },
  {
   "cell_type": "markdown",
   "metadata": {
    "id": "oRFqzLHvsFJ0"
   },
   "source": [
    "$$P(A) = \\frac{m}{n}$$"
   ]
  },
  {
   "cell_type": "markdown",
   "metadata": {
    "id": "bxmxhjWnsFJ1"
   },
   "source": [
    "Статистическую вероятность можно вычислить на основе данных, полученных по результатам многочисленных испытаний."
   ]
  },
  {
   "cell_type": "markdown",
   "metadata": {
    "id": "sZKDq8ZWsFJ2"
   },
   "source": [
    "#### Классическое определение вероятности"
   ]
  },
  {
   "cell_type": "code",
   "execution_count": null,
   "metadata": {
    "id": "6cHhyQHu1aqo"
   },
   "outputs": [],
   "source": [
    "from google.colab import drive\n",
    "drive.mount('/content/drive')"
   ]
  },
  {
   "cell_type": "markdown",
   "metadata": {
    "id": "DLwMWLOhsFJ3"
   },
   "source": [
    "Если заранее известны все вероятные исходы и они равновозможны (например, при подбрасывании монеты или игральной кости), можно воспользоваться **классическим определением вероятности**:\n",
    "\n",
    "Вероятность события — это отношение числа элементарных исходов, благоприятствующих данному событию, к числу всех равновозможных исходов опыта, в котором оно может появиться.\n",
    "\n",
    "\n",
    "Формула для этого определения такая же, как и для статистической вероятности:"
   ]
  },
  {
   "cell_type": "markdown",
   "metadata": {
    "id": "5QBvlL81sFJ4"
   },
   "source": [
    "$$P(A) = \\frac{m}{n}$$"
   ]
  },
  {
   "cell_type": "markdown",
   "metadata": {
    "id": "1p8dVxYGsFJ4"
   },
   "source": [
    "**Пример 3**"
   ]
  },
  {
   "cell_type": "markdown",
   "metadata": {
    "id": "k1FeBSzQsFJ4"
   },
   "source": [
    "Вычислим вероятность того, что на игральной кости выпадет число 3. Известно, что у кости шесть граней с числами от 1 до 6 и каждая может выпасть с равной вероятностью. По формуле классической вероятности получаем результат:"
   ]
  },
  {
   "cell_type": "markdown",
   "metadata": {
    "id": "1oaVbX2TsFJ5"
   },
   "source": [
    "$$P(A) = \\frac{m}{n} = \\frac{1}{6}$$"
   ]
  },
  {
   "cell_type": "markdown",
   "metadata": {
    "id": "PjIamrGPsFJ6"
   },
   "source": [
    "**Пример 4**"
   ]
  },
  {
   "cell_type": "markdown",
   "metadata": {
    "id": "F_w8adOVsFJ7"
   },
   "source": [
    "Вычислим, с какой вероятностью на игральной кости выпадет 2 или 4. Эти события в равной степени вероятны. Как следует из предыдущего примера, каждая из этих вероятностей равна 1/6. И эти события — несовместные, то есть не могут произойти одновременно. Поэтому мы можем складывать их вероятности:"
   ]
  },
  {
   "cell_type": "markdown",
   "metadata": {
    "id": "BQNBlwPysFJ9"
   },
   "source": [
    "$$P(A∨B) = \\frac{1}{6} + \\frac{1}{6} = \\frac{2}{6}$$"
   ]
  },
  {
   "cell_type": "markdown",
   "metadata": {
    "id": "pRqOYUjasFJ-"
   },
   "source": [
    "($∨$ — знак логического ИЛИ)."
   ]
  },
  {
   "cell_type": "markdown",
   "metadata": {
    "id": "mH-XUecBsFKB"
   },
   "source": [
    "Для более сложных случаев число исходов $k$, благоприятствующих данному событию, или число всех элементарных исходов испытания ($n$) можно вычислить с помощью формул комбинаторики."
   ]
  },
  {
   "cell_type": "markdown",
   "metadata": {
    "id": "dWGTf84XsFKA"
   },
   "source": [
    "#### Формулы комбинаторики"
   ]
  },
  {
   "cell_type": "markdown",
   "metadata": {
    "id": "HReJG0-TzvAH"
   },
   "source": [
    "# Новый раздел"
   ]
  },
  {
   "cell_type": "markdown",
   "metadata": {
    "id": "zjQq1-wrsFKC"
   },
   "source": [
    "Число **сочетаний** из $n$ элементов по $k$ элементов в каждом (в сочетаниях порядок не важен):"
   ]
  },
  {
   "cell_type": "markdown",
   "metadata": {
    "id": "PW2lximGsFKC"
   },
   "source": [
    "$$C_n^k = \\frac{n!}{k!(n - k)!}$$"
   ]
  },
  {
   "cell_type": "markdown",
   "metadata": {
    "id": "2GM7Yz7xIgzF"
   },
   "source": [
    "Напишем функцию, чтобы вычислить количество сочетаний:"
   ]
  },
  {
   "cell_type": "code",
   "execution_count": null,
   "metadata": {
    "id": "iFH05AQwKlNl"
   },
   "outputs": [],
   "source": [
    "from math import factorial"
   ]
  },
  {
   "cell_type": "code",
   "execution_count": null,
   "metadata": {
    "id": "XqmC5AY8I_Ie"
   },
   "outputs": [],
   "source": [
    "def combinations(n, k):\n",
    "    return int(factorial(n) / (factorial(k) * factorial(n - k)))"
   ]
  },
  {
   "cell_type": "code",
   "execution_count": null,
   "metadata": {
    "colab": {
     "base_uri": "https://localhost:8080/"
    },
    "id": "Xd-lf5Xbde5I",
    "outputId": "c32fd4b7-7ae3-4dc9-9f57-42974c8eb2e1"
   },
   "outputs": [
    {
     "data": {
      "text/plain": [
       "190"
      ]
     },
     "execution_count": 24,
     "metadata": {
      "tags": []
     },
     "output_type": "execute_result"
    }
   ],
   "source": [
    "combinations(20, 2)"
   ]
  },
  {
   "cell_type": "markdown",
   "metadata": {
    "id": "bqnvhGwnsFKE"
   },
   "source": [
    "Определим число **размещений** из $n$ элементов по $k$ элементов в каждом. При размещениях порядок важен, поэтому вариантов размещения может быть больше, чем сочетаний при заданных $k$  и $n$."
   ]
  },
  {
   "cell_type": "markdown",
   "metadata": {
    "id": "ITiiVKPWsFKF"
   },
   "source": [
    "$$A_n^k = \\frac{n!}{(n - k)!}$$"
   ]
  },
  {
   "cell_type": "code",
   "execution_count": null,
   "metadata": {
    "id": "aRmxVO1vwvEY"
   },
   "outputs": [],
   "source": [
    "def arrangements(n, k):\n",
    "    return int(factorial(n) / factorial(n - k))"
   ]
  },
  {
   "cell_type": "code",
   "execution_count": null,
   "metadata": {
    "colab": {
     "base_uri": "https://localhost:8080/"
    },
    "id": "N1CXrU6Cegy7",
    "outputId": "bc86d2b5-4e7f-43c7-a2cc-acdea72b9e3c"
   },
   "outputs": [
    {
     "data": {
      "text/plain": [
       "6840"
      ]
     },
     "execution_count": 26,
     "metadata": {
      "tags": []
     },
     "output_type": "execute_result"
    }
   ],
   "source": [
    "arrangements(20, 3)"
   ]
  },
  {
   "cell_type": "markdown",
   "metadata": {
    "id": "1K0UMRiisFKG"
   },
   "source": [
    "Число **перестановок** из $n$ элементов — при перестановках важен порядок, но отличие от размещений в том, что применяются все имеющиеся $n$ элементов:"
   ]
  },
  {
   "cell_type": "markdown",
   "metadata": {
    "id": "8HZXUfJcsFKI"
   },
   "source": [
    "$$P_n = n!$$"
   ]
  },
  {
   "cell_type": "code",
   "execution_count": null,
   "metadata": {
    "id": "ktyYJlBLPfP5"
   },
   "outputs": [],
   "source": [
    "def permutations(n):\n",
    "    return int(factorial(n))"
   ]
  },
  {
   "cell_type": "markdown",
   "metadata": {
    "id": "b1hei-UysFKI"
   },
   "source": [
    "Рассмотрим на примерах, как применяются формулы комбинаторики."
   ]
  },
  {
   "cell_type": "markdown",
   "metadata": {
    "id": "aRbqU8vBsFKJ"
   },
   "source": [
    "**Пример 5**"
   ]
  },
  {
   "cell_type": "markdown",
   "metadata": {
    "id": "6HofFrbQsFKK"
   },
   "source": [
    "Сколькими способами можно выбрать из колоды, состоящей из 36 карт, 4 карты?\n",
    "\n",
    "Для ответа на этот вопрос воспользуемся формулой для вычисления количества сочетаний:"
   ]
  },
  {
   "cell_type": "markdown",
   "metadata": {
    "id": "g5e4SLQ5sFKL"
   },
   "source": [
    "# $$C_{36}^4 = \\frac{36!}{4!(36 - 4)!} = 270725$$"
   ]
  },
  {
   "cell_type": "markdown",
   "metadata": {
    "id": "5p5azqlhPpVb"
   },
   "source": [
    "или"
   ]
  },
  {
   "cell_type": "markdown",
   "metadata": {
    "id": "2oI_Uztsf9CQ"
   },
   "source": []
  },
  {
   "cell_type": "code",
   "execution_count": null,
   "metadata": {
    "colab": {
     "base_uri": "https://localhost:8080/"
    },
    "id": "vCudU0J8PnJv",
    "outputId": "a4672e74-6fff-4b5a-c4f2-fad098d9ec6f"
   },
   "outputs": [
    {
     "data": {
      "text/plain": [
       "270725"
      ]
     },
     "execution_count": 27,
     "metadata": {
      "tags": []
     },
     "output_type": "execute_result"
    }
   ],
   "source": [
    "combinations(52, 4)"
   ]
  },
  {
   "cell_type": "markdown",
   "metadata": {
    "id": "WXfKNhFGsFKQ"
   },
   "source": [
    "**Пример 6**"
   ]
  },
  {
   "cell_type": "markdown",
   "metadata": {
    "collapsed": true,
    "id": "9tXX-yJYsFKQ"
   },
   "source": [
    "В магазине 20 покупателей. Сколькими способами они могут образовать очередь из 5 человек?\n",
    "\n",
    "В этом примере важен порядок, в котором покупатели будут стоять в очереди, поэтому применим формулу для нахождения числа размещений:"
   ]
  },
  {
   "cell_type": "code",
   "execution_count": null,
   "metadata": {
    "colab": {
     "base_uri": "https://localhost:8080/"
    },
    "id": "gKsM5aeoP32n",
    "outputId": "cd2bd931-5bfd-4238-dc49-96362e00bf34"
   },
   "outputs": [
    {
     "data": {
      "text/plain": [
       "1860480"
      ]
     },
     "execution_count": 7,
     "metadata": {
      "tags": []
     },
     "output_type": "execute_result"
    }
   ],
   "source": [
    "arrangements(20, 6)"
   ]
  },
  {
   "cell_type": "markdown",
   "metadata": {
    "id": "aFeIzgkQsFKR"
   },
   "source": [
    "**Пример 7**"
   ]
  },
  {
   "cell_type": "markdown",
   "metadata": {
    "collapsed": true,
    "id": "JOsG3qkAsFKS"
   },
   "source": [
    "Сколькими способами 5 покупателей могут образовать очередь?\n",
    "\n",
    "Этот пример похож на предыдущий, но есть важное отличие: не нужно выбирать 5 покупателей из 20. Здесь их всего 5, и все должны присутствовать в очереди. Применим формулу для нахождения числа перестановок:"
   ]
  },
  {
   "cell_type": "code",
   "execution_count": null,
   "metadata": {
    "colab": {
     "base_uri": "https://localhost:8080/"
    },
    "id": "SGljzgzEW-Pz",
    "outputId": "31259a2a-2a6a-4d83-c918-d0221a7eb885"
   },
   "outputs": [
    {
     "data": {
      "text/plain": [
       "120"
      ]
     },
     "execution_count": 8,
     "metadata": {
      "tags": []
     },
     "output_type": "execute_result"
    }
   ],
   "source": [
    "permutations(5)"
   ]
  },
  {
   "cell_type": "markdown",
   "metadata": {
    "id": "wzEHNWr1sFKU"
   },
   "source": [
    "**Пример 8**"
   ]
  },
  {
   "cell_type": "markdown",
   "metadata": {
    "collapsed": true,
    "id": "-IkfWsIHsFKU"
   },
   "source": [
    "Из колоды, состоящей из 36 карт, случайным образом выбраны 5. Сколькими способами можно выбрать эти карты так, чтобы среди них оказалось от 2 до 3 тузов?"
   ]
  },
  {
   "cell_type": "markdown",
   "metadata": {
    "collapsed": true,
    "id": "oVx_8V1VsFKV"
   },
   "source": [
    "Чтобы решить эту задачу, нужно сначала рассмотреть ситуацию, когда выбирается два туза из четырех.\n",
    "\n",
    "Число таких сочетаний будет равно:"
   ]
  },
  {
   "cell_type": "code",
   "execution_count": null,
   "metadata": {
    "colab": {
     "base_uri": "https://localhost:8080/"
    },
    "id": "I0G2chFhXdp2",
    "outputId": "7bfa61ff-7d76-4559-8c1f-8388af60c0fb"
   },
   "outputs": [
    {
     "data": {
      "text/plain": [
       "6"
      ]
     },
     "execution_count": 28,
     "metadata": {
      "tags": []
     },
     "output_type": "execute_result"
    }
   ],
   "source": [
    "combinations(4, 2)"
   ]
  },
  {
   "cell_type": "markdown",
   "metadata": {
    "id": "vR8Bgd_GsFKW"
   },
   "source": [
    "Остальные три карты выбираются из 32 карт  — тузы не рассматриваются, так как они уже выбраны:"
   ]
  },
  {
   "cell_type": "code",
   "execution_count": null,
   "metadata": {
    "colab": {
     "base_uri": "https://localhost:8080/"
    },
    "id": "cYJcvTuVXn6G",
    "outputId": "84add40e-0408-4334-a377-63a487327d5e"
   },
   "outputs": [
    {
     "data": {
      "text/plain": [
       "4960"
      ]
     },
     "execution_count": 10,
     "metadata": {
      "tags": []
     },
     "output_type": "execute_result"
    }
   ],
   "source": [
    "combinations(32, 3)"
   ]
  },
  {
   "cell_type": "markdown",
   "metadata": {
    "id": "K-J4j6BnsFKY"
   },
   "source": [
    "И в этом случае будет такое число сочетаний, когда из колоды, в которой 36 карт, выбраны пять, две из которых — тузы:"
   ]
  },
  {
   "cell_type": "markdown",
   "metadata": {
    "id": "A6AAWvurp1dR"
   },
   "source": []
  },
  {
   "cell_type": "code",
   "execution_count": null,
   "metadata": {
    "id": "4XWjX9IUp1Hh"
   },
   "outputs": [],
   "source": []
  },
  {
   "cell_type": "code",
   "execution_count": null,
   "metadata": {
    "colab": {
     "base_uri": "https://localhost:8080/"
    },
    "id": "LQnsS5ADYGuP",
    "outputId": "ffc7eb95-e5f5-475a-fc96-06b2dbed2f6b"
   },
   "outputs": [
    {
     "data": {
      "text/plain": [
       "29760"
      ]
     },
     "execution_count": 29,
     "metadata": {
      "tags": []
     },
     "output_type": "execute_result"
    }
   ],
   "source": [
    "6 * 4960"
   ]
  },
  {
   "cell_type": "markdown",
   "metadata": {
    "id": "wf_Y6h-1sFKZ"
   },
   "source": [
    "Теперь рассмотрим ситуацию выбора трех тузов из четырех. Число сочетаний будет равно:"
   ]
  },
  {
   "cell_type": "code",
   "execution_count": null,
   "metadata": {
    "colab": {
     "base_uri": "https://localhost:8080/"
    },
    "id": "roqN2ghSYJJk",
    "outputId": "37ebbc73-df70-4365-9c61-72ccebb25eb4"
   },
   "outputs": [
    {
     "data": {
      "text/plain": [
       "4"
      ]
     },
     "execution_count": 12,
     "metadata": {
      "tags": []
     },
     "output_type": "execute_result"
    }
   ],
   "source": [
    "combinations(4, 3)"
   ]
  },
  {
   "cell_type": "markdown",
   "metadata": {
    "id": "vc-czT5isFKb"
   },
   "source": [
    "Остальные две карты выбираются из 32 карт. Число сочетаний будет равно:"
   ]
  },
  {
   "cell_type": "code",
   "execution_count": null,
   "metadata": {
    "colab": {
     "base_uri": "https://localhost:8080/"
    },
    "id": "vkienKGIYMr3",
    "outputId": "616efb35-91d8-43b2-8719-08fc3e052907"
   },
   "outputs": [
    {
     "data": {
      "text/plain": [
       "496"
      ]
     },
     "execution_count": 13,
     "metadata": {
      "tags": []
     },
     "output_type": "execute_result"
    }
   ],
   "source": [
    "combinations(32, 2)"
   ]
  },
  {
   "cell_type": "markdown",
   "metadata": {
    "id": "LPfDKt12sFKb"
   },
   "source": [
    "\n",
    "\n",
    "```\n",
    "# Выбран кодовый формат\n",
    "```\n",
    "\n",
    "И тогда будет такое число сочетаний, когда из колоды в 36 карт выбраны пять, три из которых — тузы:"
   ]
  },
  {
   "cell_type": "code",
   "execution_count": null,
   "metadata": {
    "colab": {
     "base_uri": "https://localhost:8080/"
    },
    "id": "CALKLpyyYPyU",
    "outputId": "6bf3da6d-a7df-4e0b-b7bd-3a8e27c7cb7d"
   },
   "outputs": [
    {
     "data": {
      "text/plain": [
       "1984"
      ]
     },
     "execution_count": 14,
     "metadata": {
      "tags": []
     },
     "output_type": "execute_result"
    }
   ],
   "source": [
    "4 * 496"
   ]
  },
  {
   "cell_type": "markdown",
   "metadata": {
    "id": "yi6iylD_sFKd"
   },
   "source": [
    "Осталось сложить полученные числа сочетаний:"
   ]
  },
  {
   "cell_type": "code",
   "execution_count": null,
   "metadata": {
    "colab": {
     "base_uri": "https://localhost:8080/"
    },
    "id": "VKo6iTmLYR-b",
    "outputId": "868bfc55-ea63-41fc-c2b6-9fdd394d8d42"
   },
   "outputs": [
    {
     "data": {
      "text/plain": [
       "31744"
      ]
     },
     "execution_count": 15,
     "metadata": {
      "tags": []
     },
     "output_type": "execute_result"
    }
   ],
   "source": [
    "29760 + 1984"
   ]
  },
  {
   "cell_type": "markdown",
   "metadata": {
    "id": "OB_XrmOnsFKe"
   },
   "source": [
    "Число комбинаций, полученных с помощью формул комбинаторики, можно складывать \n",
    "и умножать. Сложение в приведенном примере соответствует логическому ИЛИ, а умножение — логическому И."
   ]
  },
  {
   "cell_type": "markdown",
   "metadata": {
    "id": "RRYel7rusFKg"
   },
   "source": [
    "**Совместные и несовместные события**"
   ]
  },
  {
   "cell_type": "markdown",
   "metadata": {
    "id": "imCWlmlxsFKg"
   },
   "source": [
    "Совместные события могут произойти в одном испытании, а несовместные — нет. Например, при однократном подбрасывании игральной кости не могут сразу выпасть числа 3 и 4 — эти события несовместны. Если бросают две кости, на одной может выпасть 4, а на другой — 5, это совместные события. Вероятности несовместных событий можно складывать:"
   ]
  },
  {
   "cell_type": "markdown",
   "metadata": {
    "id": "W8_QH9casFKh"
   },
   "source": [
    "$$P(A + B) = P(A) + P(B)$$"
   ]
  },
  {
   "cell_type": "markdown",
   "metadata": {
    "id": "7qOe2xgSsFKi"
   },
   "source": [
    "В случае совместных событий формула суммы событий другая: из суммы вероятностей отдельных событий вычитается вероятность их совместного появления."
   ]
  },
  {
   "cell_type": "markdown",
   "metadata": {
    "id": "Ne6dLbmjsFKi"
   },
   "source": [
    "$$P(A + B) = P(A) + P(B) - P(AB)$$"
   ]
  },
  {
   "cell_type": "code",
   "execution_count": null,
   "metadata": {
    "id": "z8Xbi7WCnXAr"
   },
   "outputs": [],
   "source": []
  },
  {
   "cell_type": "markdown",
   "metadata": {
    "id": "4J6cC6nOsFKj"
   },
   "source": [
    "**Вероятность зависимых и независимых событий**"
   ]
  },
  {
   "cell_type": "markdown",
   "metadata": {
    "id": "zj39tXYqsFKj"
   },
   "source": [
    "*Независимыми* события  называют, когда появление одного из них не влияет на появление другого. С зависимыми все наоборот."
   ]
  },
  {
   "cell_type": "markdown",
   "metadata": {
    "id": "gGrtdYgisFKk"
   },
   "source": [
    "Вероятность одновременного появления двух независимых событий вычисляется по формуле:"
   ]
  },
  {
   "cell_type": "markdown",
   "metadata": {
    "id": "Tl_jpB4HsFKk"
   },
   "source": [
    "$$P(A*B) = P(A) * P(B)$$"
   ]
  },
  {
   "cell_type": "markdown",
   "metadata": {
    "id": "YC0D9kqJsFKm"
   },
   "source": [
    "Вероятность появления двух зависимых событий:"
   ]
  },
  {
   "cell_type": "markdown",
   "metadata": {
    "id": "gDRJ7jGfsFKm"
   },
   "source": [
    "$$P(A*B) = P(A) * P(B\\:|\\:A) = P(B) * P(A\\:|\\:B)$$"
   ]
  },
  {
   "cell_type": "markdown",
   "metadata": {
    "id": "CuERs6rIsFKn"
   },
   "source": [
    "**Пример 9**"
   ]
  },
  {
   "cell_type": "markdown",
   "metadata": {
    "id": "aUsMeENFsFKn"
   },
   "source": [
    "Найдем вероятность того, что при броске двух игральных костей на первой выпадет четное число, а на второй — кратное трем. Сначала рассмотрим вероятность выпадения четного числа на первой кости. Таких случаев может быть три: это события, при которых выпадают числа 2, 4 и 6. Вероятность для каждого из них равна 1/6.\n",
    "\n",
    "Так как эти три события являются несовместными, вероятность их суммы равна сумме их вероятностей:"
   ]
  },
  {
   "cell_type": "markdown",
   "metadata": {
    "id": "hpEskO7FsFKn"
   },
   "source": [
    "$$P(четн.) = \\frac{1}{6} + \\frac{1}{6} + \\frac{1}{6} = \\frac{3}{6} = \\frac{1}{2}$$"
   ]
  },
  {
   "cell_type": "markdown",
   "metadata": {
    "id": "5ts2EeuDsFKo"
   },
   "source": [
    "Для второй кости подходящих событий два: это выпадение чисел 3 и 6. Это тоже несовместные события, и мы можем сложить их вероятности:"
   ]
  },
  {
   "cell_type": "markdown",
   "metadata": {
    "id": "q2lcEa-VsFKp"
   },
   "source": [
    "$$P(кратн. 3) = \\frac{1}{6} + \\frac{1}{6} = \\frac{2}{6} = \\frac{1}{3}$$"
   ]
  },
  {
   "cell_type": "markdown",
   "metadata": {
    "id": "C-NrYnV9sFKp"
   },
   "source": [
    "С учетом того, что выпадение числа на одной кости не влияет на результат на другой — то есть эти события независимы, — применим умножение вероятностей и получим итоговый ответ:"
   ]
  },
  {
   "cell_type": "markdown",
   "metadata": {
    "id": "yXQpCRTKsFKq"
   },
   "source": [
    "$$P = \\frac{1}{2} * \\frac{1}{3} = \\frac{1}{6}$$"
   ]
  },
  {
   "cell_type": "markdown",
   "metadata": {
    "id": "uQBgCxqBsFKr"
   },
   "source": [
    "**Формула полной вероятности**"
   ]
  },
  {
   "cell_type": "markdown",
   "metadata": {
    "id": "lf4EHhsMsFKr"
   },
   "source": [
    "Если событие $A$ может наступить только при появлении событий $B_1, B_2, \\dots, B_n$, образующих полную группу несовместных событий*, то вероятность $A$ вычисляется по формуле:\n",
    "\n",
    "***полная группа событий** означает, что при отдельном испытании обязательно возникнет одно из них."
   ]
  },
  {
   "cell_type": "markdown",
   "metadata": {
    "id": "4WshmADxsFKt"
   },
   "source": [
    "$$P(A) = P(B_1) \\cdot P(A\\:|\\:B_1) + P(B_2) \\cdot P(A\\:|\\:B_2) \\; + ... + \\; P(B_n) \\cdot P(A\\:|\\:B_n)$$"
   ]
  },
  {
   "cell_type": "markdown",
   "metadata": {
    "id": "G1khs06KsFKu"
   },
   "source": [
    "Выражение $P(B\\;|\\;A)$ означает вероятность наступления события $B$ при условии, что событие $A$ произошло."
   ]
  },
  {
   "cell_type": "markdown",
   "metadata": {
    "id": "sSTkdtuVsFKv"
   },
   "source": [
    "**Пример 10**"
   ]
  },
  {
   "cell_type": "markdown",
   "metadata": {
    "id": "HDes28G0sFKv"
   },
   "source": [
    "Есть три одинаковые корзины. В первой лежат три красных и пять зеленых мячей, во второй — только красные, а в третьей — только зеленые мячи. Случайно выбирается одна корзина и из нее случайным образом извлекается мяч. \n",
    "\n",
    "Какова вероятность того, что этот мяч — зеленый?\n",
    "\n",
    "Решим эту задачу с помощью формулы полной вероятности. Событием $A$ будем считать то, что достанут зеленый мяч, а событием $B$ — что выберут определенную корзину. Причем вероятность выбора одной из трех корзин будет равна 1/3.\n",
    "\n",
    "Вероятность достать зеленый мяч при условии, что выбрана первая корзина, равен 5/(3 + 5), то есть 5/8. При выборе второй корзины вероятность вынуть зеленый мяч равна 0. В случае с третьей корзиной вероятность равна 1, так как все мячи в ней — зеленые.\n",
    "\n",
    "Подставим данные значения в формулу полной вероятности и получим итоговый ответ:"
   ]
  },
  {
   "cell_type": "markdown",
   "metadata": {
    "id": "EWPYRImssFKw"
   },
   "source": [
    "$$P(A) = \\frac{1}{3} \\cdot \\frac{5}{8} + \\frac{1}{3} \\cdot 0 + \\frac{1}{3} \\cdot 1 = \\frac{5}{24} + 0 + \\frac{1}{3} = \\frac{13}{24}$$"
   ]
  },
  {
   "cell_type": "markdown",
   "metadata": {
    "id": "7euBINZMsFKw"
   },
   "source": [
    "#### Формула Байеса"
   ]
  },
  {
   "cell_type": "markdown",
   "metadata": {
    "collapsed": true,
    "id": "_5YeOFVOsFKx"
   },
   "source": [
    "Чтобы определить вероятность события $B$ при условии, что событие $A$ уже произошло, используют формулу Байеса:"
   ]
  },
  {
   "cell_type": "markdown",
   "metadata": {
    "id": "3hN0vJKIsFKy"
   },
   "source": [
    "$$P(B\\:|\\:A) = \\frac{P(B) \\cdot P(A\\:|\\:B)}{P(A)}$$"
   ]
  },
  {
   "cell_type": "markdown",
   "metadata": {
    "id": "4C9mz7ymsFKz"
   },
   "source": [
    "В данной формуле вероятность $P(B\\;|\\;A)$ называется апостериорной, то есть определенной после того, как произошло событие $A$. \n",
    "\n",
    "А вероятность $P(B)$ — априорной, определенной до испытания."
   ]
  },
  {
   "cell_type": "markdown",
   "metadata": {
    "id": "5crVgwelsFKz"
   },
   "source": [
    "**Пример 11**"
   ]
  },
  {
   "cell_type": "markdown",
   "metadata": {
    "id": "-Smvex-usFK0"
   },
   "source": [
    "Соревнования по биатлону. Один из трех спортсменов стреляет и попадает в мишень. \n",
    "\n",
    "Вероятность такого события для первого спортсмена равна 0.2, для второго — 0.4, для третьего — 0.7.\n",
    "\n",
    "Задача: найти вероятность того, что выстрелы произведены третьим спортсменом.\n",
    "\n",
    "Прежде чем узнали результат выстрела, мы располагали только априорной вероятностью того, что выстрел был произведен, и она равнялась 1/3 — если учесть, что у всех спортсменов были равные возможности выстрелить.\n",
    "\n",
    "Зная результат выстрела, мы можем заново оценить вероятности для каждого спортсмена — ведь точность у них разная. Эти вероятности будут апостериорными, так как они получены после поступления информации о том, что выстрел был удачным.\n",
    "\n",
    "Событием $A$ будем считать попадание в мишень, а событиями $B_1, B_2$ и $B_3$ — что выстрел совершил первый, второй или третий спортсмен:"
   ]
  },
  {
   "cell_type": "markdown",
   "metadata": {
    "id": "yKhoUtEnsFK0"
   },
   "source": [
    "$$P(A\\:|\\:B_1) = 0.2$$\n",
    "\n",
    "$$P(A\\:|\\:B_2) = 0.4$$\n",
    "\n",
    "$$P(A\\:|\\:B_3) = 0.7$$"
   ]
  },
  {
   "cell_type": "markdown",
   "metadata": {
    "id": "ULZ2jSissFK1"
   },
   "source": [
    "Вероятность того, что стрелял третий спортсмен — при условии, что выстрел был удачным, — будем находить по формуле:"
   ]
  },
  {
   "cell_type": "markdown",
   "metadata": {
    "id": "KmIcWtrbsFK2"
   },
   "source": [
    "$$P(B_3\\:|\\:A) = \\frac{P(B_3) \\cdot P(A\\:|\\:B_3)}{P(A)}$$\n",
    "\n",
    "---\n",
    "\n"
   ]
  },
  {
   "cell_type": "markdown",
   "metadata": {
    "id": "4CIYxbSisFK3"
   },
   "source": [
    "Все величины подставим из условия, а знаменатель дроби распишем по формуле полной вероятности:"
   ]
  },
  {
   "cell_type": "markdown",
   "metadata": {
    "id": "WENz51IbsFK4"
   },
   "source": [
    "$$P(B_3\\:|\\:A) = \\frac{\\frac{1}{3} \\cdot 0.7}{\\frac{1}{3} \\cdot 0.2 + \\frac{1}{3} \\cdot 0.4 + \\frac{1}{3} \\cdot 0.7} = \\frac{7}{13}$$"
   ]
  }
 ],
 "metadata": {
  "colab": {
   "collapsed_sections": [
    "sZKDq8ZWsFJ2",
    "dWGTf84XsFKA",
    "7euBINZMsFKw"
   ],
   "name": "Матстат - Урок 1.ipynb",
   "provenance": []
  },
  "kernelspec": {
   "display_name": "Python 3",
   "language": "python",
   "name": "python3"
  },
  "language_info": {
   "codemirror_mode": {
    "name": "ipython",
    "version": 3
   },
   "file_extension": ".py",
   "mimetype": "text/x-python",
   "name": "python",
   "nbconvert_exporter": "python",
   "pygments_lexer": "ipython3",
   "version": "3.8.5"
  }
 },
 "nbformat": 4,
 "nbformat_minor": 1
}
