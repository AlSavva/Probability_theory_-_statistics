{
 "cells": [
  {
   "cell_type": "markdown",
   "id": "informational-desire",
   "metadata": {},
   "source": [
    "## <center>Практическое задание к лекции 6."
   ]
  },
  {
   "cell_type": "markdown",
   "id": "injured-boards",
   "metadata": {},
   "source": [
    "**1. Даны значения величины заработной платы заемщиков банка (zp) и значения их поведенческого кредитного скоринга (ks):  \n",
    "zp = [35, 45, 190, 200, 40, 70, 54, 150, 120, 110],  \n",
    "ks = [401, 574, 874, 919, 459, 739, 653, 902, 746, 832].  \n",
    "Найдите ковариацию этих двух величин с помощью элементарных действий, а затем с помощью функции cov из numpy. Полученные значения должны быть равны. Найдите коэффициент корреляции Пирсона с помощью ковариации и среднеквадратичных отклонений двух признаков, а затем с использованием функций из библиотек numpy и pandas.**"
   ]
  },
  {
   "cell_type": "code",
   "execution_count": 2,
   "id": "vital-tanzania",
   "metadata": {},
   "outputs": [],
   "source": [
    "import numpy as np\n",
    "import pandas as pd\n",
    "import matplotlib.pyplot as plt\n",
    "\n",
    "%matplotlib inline"
   ]
  },
  {
   "cell_type": "code",
   "execution_count": 3,
   "id": "exterior-mexican",
   "metadata": {},
   "outputs": [],
   "source": [
    "zp=np.array([35, 45, 190, 200, 40, 70, 54, 150, 120, 110])\n",
    "ks=np.array([401, 574, 874, 919, 459, 739, 653, 902, 746, 832])"
   ]
  },
  {
   "cell_type": "markdown",
   "id": "equal-wonder",
   "metadata": {},
   "source": [
    "Посмотрим на графике, есть ли зависимость между данными?"
   ]
  },
  {
   "cell_type": "code",
   "execution_count": 9,
   "id": "sufficient-copying",
   "metadata": {},
   "outputs": [
    {
     "data": {
      "image/png": "[encoded data removed]",
      "text/plain": [
       "<Figure size 432x288 with 1 Axes>"
      ]
     },
     "metadata": {
      "needs_background": "light"
     },
     "output_type": "display_data"
    }
   ],
   "source": [
    "plt.scatter(zp,ks)\n",
    "plt.xlabel('Величина заработной платы')\n",
    "plt.ylabel('Поведенческий кредитный скоринг', rotation=90)\n",
    "plt.show()"
   ]
  },
  {
   "cell_type": "markdown",
   "id": "perceived-diagram",
   "metadata": {},
   "source": [
    "Как видно из графика, большим значениям величины заработной платы соответствуют большие размеры кредитного скоринга. Значит будем ожидать, что между этими данными существует выраженная положительная корреляция."
   ]
  },
  {
   "cell_type": "markdown",
   "id": "atomic-chest",
   "metadata": {},
   "source": [
    "Найдем коэффициент **ковариации** по формуле:  \n",
    "$\\displaystyle cov_{X,Y}=M(XY)-M(X)\\cdot M(Y)$"
   ]
  },
  {
   "cell_type": "code",
   "execution_count": 51,
   "id": "interpreted-batman",
   "metadata": {},
   "outputs": [],
   "source": [
    "def covar(array1, array2):\n",
    "    MXY=sum(array1*array2)/len(array1)\n",
    "    MX=sum(array1)/len(array1)\n",
    "    MY=sum(array2)/len(array2)\n",
    "    return MXY-MX*MY"
   ]
  },
  {
   "cell_type": "markdown",
   "id": "flying-passing",
   "metadata": {},
   "source": [
    "Коэффициент ковариации:"
   ]
  },
  {
   "cell_type": "code",
   "execution_count": 52,
   "id": "interested-newport",
   "metadata": {},
   "outputs": [
    {
     "data": {
      "text/plain": [
       "9157.839999999997"
      ]
     },
     "execution_count": 52,
     "metadata": {},
     "output_type": "execute_result"
    }
   ],
   "source": [
    "covar(zp,ks)"
   ]
  },
  {
   "cell_type": "markdown",
   "id": "copyrighted-future",
   "metadata": {},
   "source": [
    "Воспользуемся функцией cov библиотеки numpy: "
   ]
  },
  {
   "cell_type": "code",
   "execution_count": 53,
   "id": "crucial-research",
   "metadata": {},
   "outputs": [
    {
     "data": {
      "text/plain": [
       "array([[ 3494.64,  9157.84],\n",
       "       [ 9157.84, 30468.89]])"
      ]
     },
     "execution_count": 53,
     "metadata": {},
     "output_type": "execute_result"
    }
   ],
   "source": [
    "np.cov(zp, ks, ddof=0)"
   ]
  },
  {
   "cell_type": "markdown",
   "id": "sunset-sacrifice",
   "metadata": {},
   "source": [
    "Коэффициент корреляции Пирсона расчитаем по формуле:  \n",
    "$\\displaystyle r_{X,Y}=\\frac{cov_{X,Y}}{\\sigma_X\\cdot\\sigma_Y}$  \n",
    "При этом следует помнить, что для **несмещённой** ковариации берутся **несмещённые** значения среднего квадратического отклонения, а для **смещённой**-**смещённые**."
   ]
  },
  {
   "cell_type": "code",
   "execution_count": 54,
   "id": "normal-tension",
   "metadata": {},
   "outputs": [],
   "source": [
    "def sigma(array, offset=True):\n",
    "    mean_array=sum(array)/len(array)\n",
    "    square_dev=(array-mean_array)**2\n",
    "    variance=sum(square_dev)/len(array) if offset else sum(square_dev)/(len(array)-1)\n",
    "    return variance**0.5    "
   ]
  },
  {
   "cell_type": "code",
   "execution_count": 65,
   "id": "adequate-suspension",
   "metadata": {},
   "outputs": [
    {
     "name": "stdout",
     "output_type": "stream",
     "text": [
      "Коэффициент корреляции r =  0.88749\n"
     ]
    }
   ],
   "source": [
    "r=covar(zp, ks)/(sigma(zp)*sigma(ks))\n",
    "print(f'Коэффициент корреляции r = {r: .5f}')"
   ]
  },
  {
   "cell_type": "code",
   "execution_count": 61,
   "id": "fallen-marketing",
   "metadata": {},
   "outputs": [
    {
     "name": "stdout",
     "output_type": "stream",
     "text": [
      "Коэффициент корреляции r = [[0.33866702 0.88749009]\n",
      " [0.88749009 2.95275283]]\n"
     ]
    }
   ],
   "source": [
    "r1=np.cov(zp, ks, ddof=1)/(sigma(zp, offset=False)*sigma(ks, offset=False))\n",
    "print(f'Коэффициент корреляции r = {r1}')"
   ]
  },
  {
   "cell_type": "markdown",
   "id": "promising-lyric",
   "metadata": {},
   "source": [
    "Воспользуемся функцией corrcoef библиотеки numpy:"
   ]
  },
  {
   "cell_type": "code",
   "execution_count": 59,
   "id": "similar-boating",
   "metadata": {},
   "outputs": [
    {
     "data": {
      "text/plain": [
       "array([[1.        , 0.88749009],\n",
       "       [0.88749009, 1.        ]])"
      ]
     },
     "execution_count": 59,
     "metadata": {},
     "output_type": "execute_result"
    }
   ],
   "source": [
    "np.corrcoef(zp,ks)"
   ]
  },
  {
   "cell_type": "markdown",
   "id": "alternate-expense",
   "metadata": {},
   "source": [
    "Воспользуемся функцией corr библиотеки pandas:  "
   ]
  },
  {
   "cell_type": "code",
   "execution_count": 62,
   "id": "manual-edinburgh",
   "metadata": {},
   "outputs": [
    {
     "data": {
      "text/html": [
       "<div>\n",
       "<style scoped>\n",
       "    .dataframe tbody tr th:only-of-type {\n",
       "        vertical-align: middle;\n",
       "    }\n",
       "\n",
       "    .dataframe tbody tr th {\n",
       "        vertical-align: top;\n",
       "    }\n",
       "\n",
       "    .dataframe thead th {\n",
       "        text-align: right;\n",
       "    }\n",
       "</style>\n",
       "<table border=\"1\" class=\"dataframe\">\n",
       "  <thead>\n",
       "    <tr style=\"text-align: right;\">\n",
       "      <th></th>\n",
       "      <th>zp</th>\n",
       "      <th>ks</th>\n",
       "    </tr>\n",
       "  </thead>\n",
       "  <tbody>\n",
       "    <tr>\n",
       "      <th>0</th>\n",
       "      <td>35</td>\n",
       "      <td>401</td>\n",
       "    </tr>\n",
       "    <tr>\n",
       "      <th>1</th>\n",
       "      <td>45</td>\n",
       "      <td>574</td>\n",
       "    </tr>\n",
       "    <tr>\n",
       "      <th>2</th>\n",
       "      <td>190</td>\n",
       "      <td>874</td>\n",
       "    </tr>\n",
       "    <tr>\n",
       "      <th>3</th>\n",
       "      <td>200</td>\n",
       "      <td>919</td>\n",
       "    </tr>\n",
       "    <tr>\n",
       "      <th>4</th>\n",
       "      <td>40</td>\n",
       "      <td>459</td>\n",
       "    </tr>\n",
       "    <tr>\n",
       "      <th>5</th>\n",
       "      <td>70</td>\n",
       "      <td>739</td>\n",
       "    </tr>\n",
       "    <tr>\n",
       "      <th>6</th>\n",
       "      <td>54</td>\n",
       "      <td>653</td>\n",
       "    </tr>\n",
       "    <tr>\n",
       "      <th>7</th>\n",
       "      <td>150</td>\n",
       "      <td>902</td>\n",
       "    </tr>\n",
       "    <tr>\n",
       "      <th>8</th>\n",
       "      <td>120</td>\n",
       "      <td>746</td>\n",
       "    </tr>\n",
       "    <tr>\n",
       "      <th>9</th>\n",
       "      <td>110</td>\n",
       "      <td>832</td>\n",
       "    </tr>\n",
       "  </tbody>\n",
       "</table>\n",
       "</div>"
      ],
      "text/plain": [
       "    zp   ks\n",
       "0   35  401\n",
       "1   45  574\n",
       "2  190  874\n",
       "3  200  919\n",
       "4   40  459\n",
       "5   70  739\n",
       "6   54  653\n",
       "7  150  902\n",
       "8  120  746\n",
       "9  110  832"
      ]
     },
     "execution_count": 62,
     "metadata": {},
     "output_type": "execute_result"
    }
   ],
   "source": [
    "df=pd.DataFrame(data={'zp':zp, 'ks':ks})\n",
    "df"
   ]
  },
  {
   "cell_type": "code",
   "execution_count": 64,
   "id": "verbal-marker",
   "metadata": {},
   "outputs": [
    {
     "data": {
      "text/html": [
       "<div>\n",
       "<style scoped>\n",
       "    .dataframe tbody tr th:only-of-type {\n",
       "        vertical-align: middle;\n",
       "    }\n",
       "\n",
       "    .dataframe tbody tr th {\n",
       "        vertical-align: top;\n",
       "    }\n",
       "\n",
       "    .dataframe thead th {\n",
       "        text-align: right;\n",
       "    }\n",
       "</style>\n",
       "<table border=\"1\" class=\"dataframe\">\n",
       "  <thead>\n",
       "    <tr style=\"text-align: right;\">\n",
       "      <th></th>\n",
       "      <th>zp</th>\n",
       "      <th>ks</th>\n",
       "    </tr>\n",
       "  </thead>\n",
       "  <tbody>\n",
       "    <tr>\n",
       "      <th>zp</th>\n",
       "      <td>1.00000</td>\n",
       "      <td>0.88749</td>\n",
       "    </tr>\n",
       "    <tr>\n",
       "      <th>ks</th>\n",
       "      <td>0.88749</td>\n",
       "      <td>1.00000</td>\n",
       "    </tr>\n",
       "  </tbody>\n",
       "</table>\n",
       "</div>"
      ],
      "text/plain": [
       "         zp       ks\n",
       "zp  1.00000  0.88749\n",
       "ks  0.88749  1.00000"
      ]
     },
     "execution_count": 64,
     "metadata": {},
     "output_type": "execute_result"
    }
   ],
   "source": [
    "df.corr()"
   ]
  },
  {
   "cell_type": "markdown",
   "id": "breeding-buddy",
   "metadata": {},
   "source": [
    "Как и предполагалось из графика, существует сильная линейная взаимосвязь между исходными данными."
   ]
  },
  {
   "cell_type": "markdown",
   "id": "bearing-japanese",
   "metadata": {},
   "source": [
    "**2. Измерены значения IQ выборки студентов, обучающихся в местных технических вузах:  \n",
    "131, 125, 115, 122, 131, 115, 107, 99, 125, 111.  \n",
    "Известно, что в генеральной совокупности IQ распределен нормально. Найдите доверительный интервал для математического ожидания с надежностью 0.95.**  "
   ]
  },
  {
   "cell_type": "markdown",
   "id": "employed-garbage",
   "metadata": {},
   "source": [
    "Поскольку из условия задачи нам ничего не известно ни о мат. ожидании генеральной совокупности ни о среднем квадратическом отклонении для генеральной совокупности, то для расчета $95\\%$-го доверительного интервала будем использовать $t$-критерий,  и формулу:  \n",
    "$\\displaystyle\\bar X\\pm t_{\\alpha/2}\\cdot\\frac{\\sigma_{несмещ}}{\\sqrt{n}}$"
   ]
  },
  {
   "cell_type": "code",
   "execution_count": 66,
   "id": "least-chile",
   "metadata": {},
   "outputs": [
    {
     "name": "stdout",
     "output_type": "stream",
     "text": [
      "Среднее выборочное:  118.10,\n",
      "Размер выборки n=10,\n",
      "Среднее квадратическое отклонение по выборке(несмещенное):  10.55.\n"
     ]
    }
   ],
   "source": [
    "arr=np.array([131, 125, 115, 122, 131, 115, 107, 99, 125, 111])\n",
    "print(f'Среднее выборочное: {np.mean(arr): .2f},\\n'\n",
    "      f'Размер выборки n={len(arr)},\\n'\n",
    "      f'Среднее квадратическое отклонение по выборке(несмещенное): {np.std(arr, ddof=1): .2f}.'\n",
    "     )"
   ]
  },
  {
   "cell_type": "code",
   "execution_count": 67,
   "id": "accepted-logistics",
   "metadata": {},
   "outputs": [],
   "source": [
    "import scipy.stats as stats"
   ]
  },
  {
   "cell_type": "code",
   "execution_count": 68,
   "id": "protected-trustee",
   "metadata": {},
   "outputs": [
    {
     "name": "stdout",
     "output_type": "stream",
     "text": [
      "Табличное значение t-критерия для 95%-го доверительного интервала данной выборки:  2.262\n"
     ]
    }
   ],
   "source": [
    "def t_from_table(confidens, len_array):\n",
    "    alpha=(1-confidens)\n",
    "    return stats.t.ppf(1-alpha/2, len_array-1)\n",
    "print(f'Табличное значение t-критерия для 95%-го доверительного интервала данной выборки: {t_from_table(0.95, len(arr)): .3f}')"
   ]
  },
  {
   "cell_type": "code",
   "execution_count": 70,
   "id": "driven-township",
   "metadata": {},
   "outputs": [
    {
     "name": "stdout",
     "output_type": "stream",
     "text": [
      "95%-й доверительный интервал для истинного значения IQ: (110.556, 125.644).\n"
     ]
    }
   ],
   "source": [
    "def confidens_int(arr, confidens):\n",
    "    return round(np.mean(arr)-t_from_table(confidens,len(arr))*np.std(arr, ddof=1)/len(arr)**0.5,3), \\\n",
    "           round(np.mean(arr)+t_from_table(confidens,len(arr))*np.std(arr, ddof=1)/len(arr)**0.5,3)\n",
    "\n",
    "print(f'95%-й доверительный интервал для истинного значения IQ: {confidens_int(arr, 0.95)}.')"
   ]
  },
  {
   "cell_type": "markdown",
   "id": "clean-coating",
   "metadata": {},
   "source": [
    "**3. Известно, что рост футболистов в сборной распределен нормально с дисперсией генеральной совокупности, $\\sigma^2=25\\text{ кв.см.}$ Объем выборки $n=27$, среднее выборочное $M=174.2$. Найдите доверительный интервал для математического ожидания с $\\alpha=0,95$**"
   ]
  },
  {
   "cell_type": "markdown",
   "id": "adaptive-inspector",
   "metadata": {},
   "source": [
    "Поскольку нам известнa дисперсия генеральной совокупности $\\sigma^2=25$, то для расчета $95\\%$-го доверительного интервала, будем использовать $Z$-критерий. И границы доверительного интервала расчитаем по формуле:  \n",
    "$\\displaystyle\\bar X\\pm z_{\\alpha/2}\\cdot\\frac{\\sqrt{\\sigma^2}}{\\sqrt n}$, , где:  \n",
    "$\\bar X=M=174.2$-среднее значение выборки    \n",
    "$z_{\\alpha/2}$ табличное значение $Z$-критерия, и для $95\\%$-го доверительного интервала $z_{\\alpha/2}=1,96$  \n",
    "$\\sigma^2=25$-дисперсия генеральной совокупности  \n",
    "$n=27$-объем выборки  "
   ]
  },
  {
   "cell_type": "code",
   "execution_count": 74,
   "id": "proud-baker",
   "metadata": {},
   "outputs": [
    {
     "name": "stdout",
     "output_type": "stream",
     "text": [
      "95%-й доверительный интервал для оценки мат. ожидания генеральной совокупности: [ 172.3140; 176.0860].\n"
     ]
    }
   ],
   "source": [
    "left=174.2-(1.96*25**0.5)/27**0.5\n",
    "right=174.2+(1.96*25**0.5)/27**0.5\n",
    "print(f'95%-й доверительный интервал для оценки мат. ожидания генеральной совокупности: [{left: .4f};{right: .4f}].')"
   ]
  },
  {
   "cell_type": "code",
   "execution_count": null,
   "id": "smaller-public",
   "metadata": {},
   "outputs": [],
   "source": []
  }
 ],
 "metadata": {
  "kernelspec": {
   "display_name": "Python 3",
   "language": "python",
   "name": "python3"
  },
  "language_info": {
   "codemirror_mode": {
    "name": "ipython",
    "version": 3
   },
   "file_extension": ".py",
   "mimetype": "text/x-python",
   "name": "python",
   "nbconvert_exporter": "python",
   "pygments_lexer": "ipython3",
   "version": "3.8.5"
  }
 },
 "nbformat": 4,
 "nbformat_minor": 5
}
