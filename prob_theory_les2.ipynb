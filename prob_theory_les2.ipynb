{
  "nbformat": 4,
  "nbformat_minor": 0,
  "metadata": {
    "colab": {
      "name": "Матстат - Урок 2.ipynb",
      "provenance": [],
      "collapsed_sections": []
    },
    "kernelspec": {
      "display_name": "Python 3",
      "language": "python",
      "name": "python3"
    }
  },
  "cells": [
    {
      "cell_type": "markdown",
      "metadata": {
        "id": "npwZYcsXzdm8"
      },
      "source": [
        "## Урок 2\n",
        "### Дискретные случайные величины. Закон распределения вероятностей. \n",
        "\n",
        "### Биномиальный закон распределения. Распределение Пуассона"
      ]
    },
    {
      "cell_type": "markdown",
      "metadata": {
        "id": "wxFIdNUxR9GL"
      },
      "source": [
        "# Новый раздел"
      ]
    },
    {
      "cell_type": "markdown",
      "metadata": {
        "id": "i3swFeKGBf3y"
      },
      "source": [
        "# Новый раздел"
      ]
    },
    {
      "cell_type": "code",
      "metadata": {
        "id": "UhK3_DJWvl2s",
        "colab": {
          "base_uri": "https://localhost:8080/",
          "height": 132
        },
        "outputId": "e5d27574-7d9f-4c84-8f41-f0840e2c50f5"
      },
      "source": [
        "АТС получает в среднем за час 480 вызовов. Определить вероятность того, что\n",
        "за данную минуту она получит: ровно 3 вызова; от 2 до 5 вызовов. "
      ],
      "execution_count": null,
      "outputs": [
        {
          "output_type": "error",
          "ename": "SyntaxError",
          "evalue": "ignored",
          "traceback": [
            "\u001b[0;36m  File \u001b[0;32m\"<ipython-input-1-4301a07f885c>\"\u001b[0;36m, line \u001b[0;32m1\u001b[0m\n\u001b[0;31m    АТС получает в среднем за час 480 вызовов. Определить вероятность того, что\u001b[0m\n\u001b[0m               ^\u001b[0m\n\u001b[0;31mSyntaxError\u001b[0m\u001b[0;31m:\u001b[0m invalid syntax\n"
          ]
        }
      ]
    },
    {
      "cell_type": "markdown",
      "metadata": {
        "id": "nyAZkmuJzdnE"
      },
      "source": [
        "**Случайная величина** — та, которая в результате испытания принимает только одно возможное значение. \n",
        "\n",
        "Оно заранее не известно и может зависеть от множества случайных факторов. Случайные величины могут быть дискретными и непрерывными."
      ]
    },
    {
      "cell_type": "markdown",
      "metadata": {
        "id": "t_m7c5uAzdnK"
      },
      "source": [
        "**Дискретная случайная величина** принимает отделенные друг от друга значения. Например, в результате стократного подбрасывания монетки орел может выпасть 50 или 51 раз (целое число в диапазоне от 0 до 100 включительно), но не 50 с половиной. В данном случае число выпаданий орла — пример дискретной случайной величины."
      ]
    },
    {
      "cell_type": "code",
      "metadata": {
        "id": "Bi2hZ7UbzdnP"
      },
      "source": [
        "import numpy as np"
      ],
      "execution_count": null,
      "outputs": []
    },
    {
      "cell_type": "markdown",
      "metadata": {
        "id": "dVutQlNpzdn0"
      },
      "source": [
        "**Пример 1**\n",
        "\n",
        "Смоделируем стократное подбрасывание монетки с помощью модуля **random** из библиотеки **numpy**. Результат будет дискретной случайной величиной — число выпаданий орла:"
      ]
    },
    {
      "cell_type": "code",
      "metadata": {
        "id": "KPHPGWZyzdn5",
        "colab": {
          "base_uri": "https://localhost:8080/"
        },
        "outputId": "7ce11d43-73c1-449f-e017-7dd8f697a567"
      },
      "source": [
        "# n - число испытаний\n",
        "# p - вероятность появления события\n",
        "np.random.binomial(n=100, p=0.5)"
      ],
      "execution_count": null,
      "outputs": [
        {
          "output_type": "execute_result",
          "data": {
            "text/plain": [
              "57"
            ]
          },
          "metadata": {
            "tags": []
          },
          "execution_count": 6
        }
      ]
    },
    {
      "cell_type": "markdown",
      "metadata": {
        "id": "WI7z1STRzdoU"
      },
      "source": [
        "Клетку можно запускать несколько раз, число выпадений орла будет меняться."
      ]
    },
    {
      "cell_type": "markdown",
      "metadata": {
        "id": "rO8yeFzYzdoZ"
      },
      "source": [
        "**Пример 2**"
      ]
    },
    {
      "cell_type": "code",
      "metadata": {
        "id": "vddHEak_QJ0H",
        "colab": {
          "base_uri": "https://localhost:8080/"
        },
        "outputId": "ee4f1f50-9389-485b-b36a-dd30a04599d7"
      },
      "source": [
        "5\n"
      ],
      "execution_count": null,
      "outputs": [
        {
          "output_type": "execute_result",
          "data": {
            "text/plain": [
              "5"
            ]
          },
          "metadata": {
            "tags": []
          },
          "execution_count": 1
        }
      ]
    },
    {
      "cell_type": "markdown",
      "metadata": {
        "id": "Edeq617QjnYi"
      },
      "source": [
        ""
      ]
    },
    {
      "cell_type": "markdown",
      "metadata": {
        "id": "oLhl86xgjnKS"
      },
      "source": [
        ""
      ]
    },
    {
      "cell_type": "code",
      "metadata": {
        "id": "DbAxupLwjmzT"
      },
      "source": [
        ""
      ],
      "execution_count": null,
      "outputs": []
    },
    {
      "cell_type": "markdown",
      "metadata": {
        "id": "yQ6kwsqHzdoc"
      },
      "source": [
        "Еще один пример дискретной случайной величины — число дождливых дней летом.\n",
        "\n",
        "Летних дней всего 92, так что здесь мы можем получить случайное целое число из отрезка [0, 92]:"
      ]
    },
    {
      "cell_type": "code",
      "metadata": {
        "id": "gbOwKTkSzdoe",
        "colab": {
          "base_uri": "https://localhost:8080/"
        },
        "outputId": "76851891-9915-452c-d409-cf27c849bcc4"
      },
      "source": [
        "np.random.randint(0, 93)"
      ],
      "execution_count": null,
      "outputs": [
        {
          "output_type": "execute_result",
          "data": {
            "text/plain": [
              "71"
            ]
          },
          "metadata": {
            "tags": []
          },
          "execution_count": 9
        }
      ]
    },
    {
      "cell_type": "markdown",
      "metadata": {
        "id": "U-xocIHqzdop"
      },
      "source": [
        "**Пример 3**"
      ]
    },
    {
      "cell_type": "markdown",
      "metadata": {
        "id": "VXKmfth7zdor"
      },
      "source": [
        "Есть также примеры дискретных величин без верхней границы. Например, число метеоритов, упавших на Землю за год, может принимать счетное множество значений от 0 до плюс бесконечности."
      ]
    },
    {
      "cell_type": "markdown",
      "metadata": {
        "id": "Qvi5B5dHzdou"
      },
      "source": [
        "**Закон распределения вероятностей** дискретной случайной величины — это соответствие между возможными значениями этой величины и вероятностями, которые этим значениям соответствуют."
      ]
    },
    {
      "cell_type": "markdown",
      "metadata": {
        "id": "_J86_Xbqzdow"
      },
      "source": [
        "Закон распределения вероятностей можно представить в виде таблицы. Составим ее для количества выпаданий орла при трехкратном подбрасывании монеты:"
      ]
    },
    {
      "cell_type": "code",
      "metadata": {
        "id": "UAuE00rLDsDk"
      },
      "source": [
        ""
      ],
      "execution_count": null,
      "outputs": []
    },
    {
      "cell_type": "markdown",
      "metadata": {
        "id": "rTYG_Zc5zdoz"
      },
      "source": [
        "<table border=\"3\">\n",
        "<tr><th>**X**</th><td>0</td><td>1</td><td>2</td><td>3</td></tr>\n",
        "<tr><th>**p**</th><td>0.125</td><td>0.375</td><td>0.375</td><td>0.125</td></tr>\n",
        "</table>"
      ]
    },
    {
      "cell_type": "markdown",
      "metadata": {
        "id": "NpzyNAWZzdo1"
      },
      "source": [
        "Из таблицы видно, что вероятность того, что при трехкратном подбрасывании монетки орел выпадет, к примеру, два раза, равна 0.375."
      ]
    },
    {
      "cell_type": "markdown",
      "metadata": {
        "id": "hF8zgUM3zdo5"
      },
      "source": [
        "**Биномиальное распределение** — один из примеров дискретного распределения."
      ]
    },
    {
      "cell_type": "markdown",
      "metadata": {
        "id": "q_iXGKGWzdo8"
      },
      "source": [
        "Биномиальный закон распределения — это закон распределения числа $X=k$ наступлений события $A$ в $n$ независимых испытаниях, в каждом из которых оно может произойти с вероятностью $p$."
      ]
    },
    {
      "cell_type": "markdown",
      "metadata": {
        "id": "QtFn-eBlzdo-"
      },
      "source": [
        "Число наступления события — это дискретная величина из отрезка [0, $n$]. Вероятности возможных значений этой величины определяются по формуле Бернулли:"
      ]
    },
    {
      "cell_type": "markdown",
      "metadata": {
        "id": "QNFAOxGWNhrN"
      },
      "source": [
        ""
      ]
    },
    {
      "cell_type": "code",
      "metadata": {
        "id": "BxSIHRAeNg7C"
      },
      "source": [
        ""
      ],
      "execution_count": null,
      "outputs": []
    },
    {
      "cell_type": "markdown",
      "metadata": {
        "id": "TkoOchWqzdpB"
      },
      "source": [
        "$$$$"
      ]
    },
    {
      "cell_type": "markdown",
      "metadata": {
        "id": "Sb0K-V-jzdpE"
      },
      "source": [
        "где $p$ — это вероятность наступления события $A$ в $n$ независимых испытаниях, a $q = 1 - p$."
      ]
    },
    {
      "cell_type": "markdown",
      "metadata": {
        "id": "EqTMvz9fzdpH"
      },
      "source": [
        "Математическое ожидание для биномиально распределенной дискретной величины можно вычислить по формуле:"
      ]
    },
    {
      "cell_type": "markdown",
      "metadata": {
        "id": "D5HaYkbgzdpK"
      },
      "source": [
        "$$M(X) = np$$"
      ]
    },
    {
      "cell_type": "markdown",
      "metadata": {
        "id": "XiPEiZ4YzdpL"
      },
      "source": [
        "Дисперсия для биномиально распределенной дискретной величины вычисляется так:"
      ]
    },
    {
      "cell_type": "markdown",
      "metadata": {
        "id": "22AP6paZzdpP"
      },
      "source": [
        "$$D(X) = npq$$"
      ]
    },
    {
      "cell_type": "markdown",
      "metadata": {
        "id": "N5sKWGxhzdpT"
      },
      "source": [
        "**Пример 4**"
      ]
    },
    {
      "cell_type": "markdown",
      "metadata": {
        "id": "NCchv5yczdpW"
      },
      "source": [
        "Еще раз приведем таблицу вероятностей выпадания орла при трехкратном подбрасывании монеты. С помощью формулы Бернулли покажем, как вычисляются эти вероятности:"
      ]
    },
    {
      "cell_type": "markdown",
      "metadata": {
        "id": "PLJ94aIvzdpX"
      },
      "source": [
        "<table border=\"3\">\n",
        "<tr><th>**X**</th><td>0</td><td>1</td><td>2</td><td>3</td></tr>\n",
        "<tr><th>**p**</th><td>0.125</td><td>0.375</td><td>0.375</td><td>0.125</td></tr>\n",
        "</table>"
      ]
    },
    {
      "cell_type": "markdown",
      "metadata": {
        "id": "V_ngyqNczdpc"
      },
      "source": [
        "$$p(k=1) = C_n^kp^kq^{n-k} = C_3^1p^1q^2 = \\frac{3!}{1!(3-1)!} \\cdot 0.5^1 \\cdot 0.5^2 = 3 \\cdot 0.5 \\cdot 0.25 = 0.375$$"
      ]
    },
    {
      "cell_type": "markdown",
      "metadata": {
        "id": "Sen4UGXHzdpe"
      },
      "source": [
        "\n",
        "$$p(k=2) = C_n^kp^kq^{n-k} = C_3^2p^2q^1 = \\frac{3!}{2!(3-2)!} \\cdot 0.5^2 \\cdot 0.5^1 = 3 \\cdot 0.25 \\cdot 0.5 = 0.375$$"
      ]
    },
    {
      "cell_type": "markdown",
      "metadata": {
        "id": "y4GVm31ozdpi"
      },
      "source": [
        "$$p(k=3) = C_n^kp^kq^{n-k} = C_3^3p^3q^0 = \\frac{3!}{3!(3-3)!} \\cdot 0.5^3 \\cdot 0.5^0 = 1 \\cdot 0.125 \\cdot 1 = 0.125$$"
      ]
    },
    {
      "cell_type": "markdown",
      "metadata": {
        "id": "Cr2UwCsszdpm"
      },
      "source": [
        "**Пример 5**"
      ]
    },
    {
      "cell_type": "markdown",
      "metadata": {
        "id": "yZPbYTf0zdpp"
      },
      "source": [
        "Будем находить математическое ожидание для биномиального распределения из предыдущего примера."
      ]
    },
    {
      "cell_type": "markdown",
      "metadata": {
        "id": "ffsAtr8Jzdpq"
      },
      "source": [
        "Параметр $n$ равняется 3, так как монету побрасывают три раза, а вероятность выпадания орла $p$ равняется 0.5.\n",
        "\n",
        "Посчитаем математическое ожидание:"
      ]
    },
    {
      "cell_type": "markdown",
      "metadata": {
        "id": "LySdLS6pzdpt"
      },
      "source": [
        "$$M(X) = np = 3 \\cdot 0.5 = 1.5$$"
      ]
    },
    {
      "cell_type": "markdown",
      "metadata": {
        "id": "iMWZ-HPlzdpv"
      },
      "source": [
        "Результат можно понимать так: в среднем при трехкратном подбрасывании монеты орел выпадает 1.5 раза.\n",
        "\n",
        "Теперь посчитаем дисперсию, зная, что величина $q$ (вероятность невыпадания орла, то есть выпадания решки) равна также 0.5:"
      ]
    },
    {
      "cell_type": "markdown",
      "metadata": {
        "id": "KBwQDIfdzdpw"
      },
      "source": [
        "$$D(X) = npq = 3 \\cdot 0.5 \\cdot 0.5 = 0.75$$"
      ]
    },
    {
      "cell_type": "markdown",
      "metadata": {
        "id": "_p5BwNINzdp4"
      },
      "source": [
        "**Распределение Пуассона**"
      ]
    },
    {
      "cell_type": "markdown",
      "metadata": {
        "id": "yF0eGp9Yzdp7"
      },
      "source": [
        "Если проводится большое количество испытаний $n$ и при этом вероятность $p$ появления события $A$ в отдельном испытании мала, применяют формулу Пуассона для вычисления вероятности того, что событие произойдет $m$ раз в $n$ испытаниях:"
      ]
    },
    {
      "cell_type": "markdown",
      "metadata": {
        "id": "Z153O9Ptzdp-"
      },
      "source": [
        "$$P_m \\approx \\frac{\\lambda^m}{m!}e^{-\\lambda}$$"
      ]
    },
    {
      "cell_type": "markdown",
      "metadata": {
        "id": "9h6NXlgbzdqC"
      },
      "source": [
        "**где** $λ = np$."
      ]
    },
    {
      "cell_type": "markdown",
      "metadata": {
        "id": "8aFPW32NzdqE"
      },
      "source": [
        "Распределение Пуассона и формула Пуассона часто применяются в теории массового обслуживания (ТМО).\n",
        "\n",
        "ТМО — это раздел теории вероятностей, в котором исследуется рациональный выбор структуры системы обслуживания и его процесса. В основе теории — изучение потоков требований на обслуживание, поступающих в систему и выходящих из нее, длительности ожидания и длины очередей."
      ]
    },
    {
      "cell_type": "markdown",
      "metadata": {
        "id": "qZ2hbwnkzdqG"
      },
      "source": [
        "**Пример 6**"
      ]
    },
    {
      "cell_type": "markdown",
      "metadata": {
        "id": "g6yXxtKyzdqJ"
      },
      "source": [
        "Вероятность того, что среди писем, поступающих на определенный почтовый ящик, встретится письмо со спамом, составляет 0.01.\n",
        "\n",
        "Найдите вероятность того, что среди 1000 писем, поступивших на него за месяц, будет 11 со спамом."
      ]
    },
    {
      "cell_type": "markdown",
      "metadata": {
        "id": "fGFN5b_gzdqM"
      },
      "source": [
        "Применим формулу Пуассона, зная, что $m = 11$ и $λ = np = 1000 \\cdot 0.01 = 10$:"
      ]
    },
    {
      "cell_type": "markdown",
      "metadata": {
        "id": "uoxO_pAezdqN"
      },
      "source": [
        "$$P_{11} \\approx \\frac{\\lambda^m}{m!}e^{-\\lambda} \\approx \\frac{10^{11}}{11!}e^{-10} \\approx  0.1137$$"
      ]
    },
    {
      "cell_type": "code",
      "metadata": {
        "id": "tBRZFwqWsx6x"
      },
      "source": [
        ""
      ],
      "execution_count": null,
      "outputs": []
    },
    {
      "cell_type": "markdown",
      "metadata": {
        "id": "3Odoc8GbzdqP"
      },
      "source": [
        "Если использовать Python для расчетов, можно вычислить вероятность:"
      ]
    },
    {
      "cell_type": "code",
      "metadata": {
        "id": "91FItk5GzdqS",
        "colab": {
          "base_uri": "https://localhost:8080/"
        },
        "outputId": "3ed3f3ef-a0bf-48c0-d8f0-6dcb56198f97"
      },
      "source": [
        "n = 1000\n",
        "m = 11\n",
        "p = 0.01\n",
        "lambda_ = n * p\n",
        "\n",
        "(lambda_**m / np.math.factorial(m)) * np.exp(-lambda_)"
      ],
      "execution_count": null,
      "outputs": [
        {
          "output_type": "execute_result",
          "data": {
            "text/plain": [
              "0.1137363961101212"
            ]
          },
          "metadata": {
            "tags": []
          },
          "execution_count": 10
        }
      ]
    },
    {
      "cell_type": "code",
      "metadata": {
        "id": "ROnWnAPgR_5I"
      },
      "source": [
        "from math import factorial"
      ],
      "execution_count": null,
      "outputs": []
    },
    {
      "cell_type": "code",
      "metadata": {
        "id": "XqmC5AY8I_Ie"
      },
      "source": [
        "def combinations(n, k):\n",
        "    return int(factorial(n) / (factorial(k) * factorial(n - k)))"
      ],
      "execution_count": null,
      "outputs": []
    },
    {
      "cell_type": "code",
      "metadata": {
        "id": "9LWKHseJzdqj",
        "colab": {
          "base_uri": "https://localhost:8080/"
        },
        "outputId": "1bb9cc7d-3cab-449f-e92b-634822535384"
      },
      "source": [
        "n = 144\n",
        "k = 5\n",
        "p = 1/2\n",
        "X = combinations(n, k) * (p ** k) * (1 - p) ** (n - k)\n",
        "X"
      ],
      "execution_count": null,
      "outputs": [
        {
          "output_type": "execute_result",
          "data": {
            "text/plain": [
              "2.1569168371633305e-35"
            ]
          },
          "metadata": {
            "tags": []
          },
          "execution_count": 13
        }
      ]
    },
    {
      "cell_type": "code",
      "metadata": {
        "colab": {
          "base_uri": "https://localhost:8080/"
        },
        "id": "X_axb4OmdDsB",
        "outputId": "6357a9a1-8b1c-4424-8ea7-f4ee8f10e056"
      },
      "source": [
        "0.489 * 0.33 + 0.42 * 0.2975 + 0.09 * 0.6694"
      ],
      "execution_count": null,
      "outputs": [
        {
          "output_type": "execute_result",
          "data": {
            "text/plain": [
              "0.34656600000000004"
            ]
          },
          "metadata": {
            "tags": []
          },
          "execution_count": 28
        }
      ]
    },
    {
      "cell_type": "code",
      "metadata": {
        "colab": {
          "base_uri": "https://localhost:8080/"
        },
        "id": "y3cQaYrQdrDx",
        "outputId": "76459c33-0401-4015-badd-1808e7ef6896"
      },
      "source": [
        "(7/10)*(6/9)*(2/11)*(1/10) + (7/10)*(3/9)*(9/11)*(2/10) + (7/10)*(3/9)*(2/11)*(9/10) + (3/10)*(7/9)*(9/11)*(2/10) + (3/10)*(7/9)*(2/11)*(9/10) + (3/10)*(2/9)*(9/11)*(8/10)"
      ],
      "execution_count": null,
      "outputs": [
        {
          "output_type": "execute_result",
          "data": {
            "text/plain": [
              "0.20484848484848484"
            ]
          },
          "metadata": {
            "tags": []
          },
          "execution_count": 3
        }
      ]
    },
    {
      "cell_type": "code",
      "metadata": {
        "colab": {
          "base_uri": "https://localhost:8080/"
        },
        "id": "L1Ni8Xoad7ij",
        "outputId": "681397d4-2fe9-436e-9312-8cf1c6851a8d"
      },
      "source": [
        "1 - 0.33 * 0.09"
      ],
      "execution_count": null,
      "outputs": [
        {
          "output_type": "execute_result",
          "data": {
            "text/plain": [
              "0.9703"
            ]
          },
          "metadata": {
            "tags": []
          },
          "execution_count": 31
        }
      ]
    }
  ]
}