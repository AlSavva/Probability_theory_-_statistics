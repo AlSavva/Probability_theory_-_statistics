{
 "cells": [
  {
   "cell_type": "markdown",
   "id": "contemporary-injury",
   "metadata": {},
   "source": [
    "## <center>Практическое задание к лекции 1."
   ]
  },
  {
   "cell_type": "markdown",
   "id": "interested-blame",
   "metadata": {},
   "source": [
    "**1) Из колоды в 52 карты извлекаются случайным образом 4 карты.**   \n",
    "   **a) Найти вероятность того, что все карты – крести.**  \n",
    "   **б) Найти вероятность, что среди 4-х карт окажется хотя бы один туз.**  \n",
    "   \n",
    "---"
   ]
  },
  {
   "cell_type": "markdown",
   "id": "collectible-raleigh",
   "metadata": {},
   "source": [
    "a) В колоде из 52 листов $\\frac{52}{4}=13$ карт одной масти.  \n",
    "Воспользуемся формулой подсчета количества сочетаний по $k$ элементов из множества $n$:  \n",
    "$\\displaystyle C^k_n=\\frac{n!}{k!(n-k)!}$  \n",
    "И классической формулой вероятности:  \n",
    "$\\displaystyle P(A)=\\frac{m}{n}$ где $m$-число **благоприятных** исходов, $n$-общее число **всех** исходов.  \n",
    "в нашем случае $\\displaystyle n=C^4_{52}$-т.е. количество способов извлечь 4 карты из 52, а $\\displaystyle m=C^4_{13}$, способов извлечь 4 карты одной масти.  \n",
    "Для облегчения расчетов напишем функцию:"
   ]
  },
  {
   "cell_type": "code",
   "execution_count": 2,
   "id": "enormous-filing",
   "metadata": {},
   "outputs": [],
   "source": [
    "from math import factorial\n",
    "def combinations(n, k):\n",
    "    return int(factorial(n) / (factorial(k) * factorial(n - k))) "
   ]
  },
  {
   "cell_type": "markdown",
   "id": "eleven-chart",
   "metadata": {},
   "source": [
    "Вычислим $\\displaystyle m$:"
   ]
  },
  {
   "cell_type": "code",
   "execution_count": 3,
   "id": "opposite-rogers",
   "metadata": {},
   "outputs": [
    {
     "name": "stdout",
     "output_type": "stream",
     "text": [
      "m = 715\n"
     ]
    }
   ],
   "source": [
    "m=combinations(13, 4)\n",
    "print(f'm = {m}')"
   ]
  },
  {
   "cell_type": "markdown",
   "id": "interstate-flavor",
   "metadata": {},
   "source": [
    "Вычислим $\\displaystyle n$:"
   ]
  },
  {
   "cell_type": "code",
   "execution_count": 4,
   "id": "guilty-coach",
   "metadata": {},
   "outputs": [
    {
     "name": "stdout",
     "output_type": "stream",
     "text": [
      "n = 270725\n"
     ]
    }
   ],
   "source": [
    "n=combinations(52, 4)\n",
    "print(f'n = {n}')"
   ]
  },
  {
   "cell_type": "markdown",
   "id": "funny-satellite",
   "metadata": {},
   "source": [
    "Найдем вероятность $P(4 трефы)$"
   ]
  },
  {
   "cell_type": "code",
   "execution_count": 6,
   "id": "elect-afghanistan",
   "metadata": {},
   "outputs": [
    {
     "name": "stdout",
     "output_type": "stream",
     "text": [
      "P(4 трефы) = 0.0026\n"
     ]
    }
   ],
   "source": [
    "P=m/n\n",
    "print(f'P(4 трефы) = {round(P,4)}')"
   ]
  },
  {
   "cell_type": "markdown",
   "id": "touched-cardiff",
   "metadata": {},
   "source": [
    "Либо, из классической формулы вероятности следует, что вероятность извлечь первой картой из 4-х крестовую: $\\displaystyle\\frac{13}{52}$;  \n",
    "вторую крестовую: $\\displaystyle\\frac{12}{51}$;  \n",
    "третью крестовую: $\\displaystyle\\frac{11}{50}$;  \n",
    "четвертую: $\\displaystyle\\frac{10}{49}$.  \n",
    "А поскольку, по условию **и** первая, **и** вторая, **и** третья, **и** четвертая должны быть крестовые, то $\\displaystyle P(4 трефы)=\\frac{13}{52}\\cdot\\frac{12}{51}\\cdot\\frac{11}{50}\\cdot\\frac{10}{49}$  \n",
    "Вычислим:     "
   ]
  },
  {
   "cell_type": "code",
   "execution_count": 8,
   "id": "conceptual-indicator",
   "metadata": {},
   "outputs": [
    {
     "name": "stdout",
     "output_type": "stream",
     "text": [
      "P(4 трефы) = 0.0026\n"
     ]
    }
   ],
   "source": [
    "P1=13/52*12/51*11/50*10/49\n",
    "print(f'P(4 трефы) = {round(P1,4)}')"
   ]
  },
  {
   "cell_type": "markdown",
   "id": "phantom-better",
   "metadata": {},
   "source": [
    "----\n",
    "б) в этом случае так же общее число исходов $\\displaystyle n=C^4_{52}$  \n",
    "а $\\displaystyle m$ будет складываться из 4 вариантов:  \n",
    "   1. из 4-х карт 1 туз:  \n",
    "   число способов достать 1 туз из 4-х $C^1_4$, число способов достать три остальные карты $С^3_{48}$, общее количество сочетаний 1 туз и 3 не туза $C^1_{4}\\cdotС^3_{48}$\n",
    "   2. из 4-х карт 2 туза:  \n",
    "   число способов достать 2 туза из 4-х $C^2_4$, число способов достать две остальные карты $С^2_{48}$, общее количество сочетаний 2 туза и 2 не туза $C^2_{4}\\cdotС^2_{48}$\n",
    "   3. из 4-х карт 3 туза:  \n",
    "   число способов достать 3 туза из 4-х $C^3_4$, число способов достать оставшуюся карту $С^1_{48}$, общее количество сочетаний 3 туза и 1 не туз $C^3_{4}\\cdotС^1_{48}$\n",
    "   4. из 4-х карт 4 туза:  \n",
    "   число способов достать 4 туза из 4-х $C^4_4=1$  \n",
    "   \n",
    "Общее число благоприятных исходов-сумма этих 4 вариантов.  \n",
    "Вычислим:  "
   ]
  },
  {
   "cell_type": "code",
   "execution_count": 9,
   "id": "impressed-genius",
   "metadata": {},
   "outputs": [
    {
     "name": "stdout",
     "output_type": "stream",
     "text": [
      "n = 270725\n"
     ]
    }
   ],
   "source": [
    "n=combinations(52, 4)\n",
    "print(f'n = {n}')"
   ]
  },
  {
   "cell_type": "code",
   "execution_count": 10,
   "id": "employed-discipline",
   "metadata": {},
   "outputs": [
    {
     "name": "stdout",
     "output_type": "stream",
     "text": [
      "m = 76145\n"
     ]
    }
   ],
   "source": [
    "m=sum([combinations(4,1)*combinations(48,3),combinations(4,2)*combinations(48,2),combinations(4,3)*combinations(48,1),1])\n",
    "print(f'm = {m}')"
   ]
  },
  {
   "cell_type": "markdown",
   "id": "unique-constraint",
   "metadata": {},
   "source": [
    "Найдем вероятность $P(\\text{хотя бы 1 туз})$"
   ]
  },
  {
   "cell_type": "code",
   "execution_count": 12,
   "id": "valid-inside",
   "metadata": {},
   "outputs": [
    {
     "name": "stdout",
     "output_type": "stream",
     "text": [
      "P(хотя бы 1 туз) = 0.2813\n"
     ]
    }
   ],
   "source": [
    "P=m/n\n",
    "print(f'P(хотя бы 1 туз) = {round(P,4)}')"
   ]
  },
  {
   "cell_type": "markdown",
   "id": "distant-nomination",
   "metadata": {},
   "source": [
    "Так же можно использовать то, что сумма вероятностей противоположных событий равна $1$, т.е.  \n",
    "$\\displaystyle P(A)+P(\\bar{A})=1$,  \n",
    "тогда $\\bar{A}$-событие, когда из 4-х извлеченных карт не оказалось ни одного туза. Для этого события общее число исходов $\\displaystyle n=C^4_{52}$,  а $\\displaystyle m=C^4_{48}$ - т.е. количество способов извлечь 4 карты из колоды **без** тузов. Тогда $\\displaystyle P(A)=1-P(\\bar{A})$  \n",
    "Вычислим:"
   ]
  },
  {
   "cell_type": "code",
   "execution_count": 16,
   "id": "appropriate-tablet",
   "metadata": {},
   "outputs": [
    {
     "name": "stdout",
     "output_type": "stream",
     "text": [
      "P(хотя бы 1 туз) = 0.2813\n"
     ]
    }
   ],
   "source": [
    "P2=1-combinations(48,4)/combinations(52,4)\n",
    "print(f'P(хотя бы 1 туз) = {round(P2,4)}')"
   ]
  },
  {
   "cell_type": "markdown",
   "id": "signal-voluntary",
   "metadata": {},
   "source": [
    "---  \n",
    "\n",
    "#### Ответ:  \n",
    "а) $P(\\text{4 трефы})\\approx 0.0026 \\approx 0.26\\%$;  \n",
    "б) $P(\\text{хотя бы 1 туз})\\approx 0.2813 \\approx 28.13\\%$.  \n",
    "\n",
    "---"
   ]
  },
  {
   "cell_type": "markdown",
   "id": "hindu-record",
   "metadata": {},
   "source": [
    "**2) На входной двери подъезда установлен кодовый замок, содержащий десять кнопок с цифрами от 0 до 9. Код содержит три цифры, которые нужно нажать одновременно. Какова вероятность того, что человек, не знающий код, откроет дверь с первой попытки?**  \n",
    "\n",
    "---"
   ]
  },
  {
   "cell_type": "markdown",
   "id": "extreme-arlington",
   "metadata": {},
   "source": [
    "Так как кнопки нажимаются **одновременно**, то порядок не важен, и для формулы вероятности $\\displaystyle P(A)=\\frac{m}{n}$ общее число исходов будет определяться количиством сочетаний 3-х элементов из 10, $\\displaystyle n=C^3_{10}$, а количество благоприятных исходов $\\displaystyle m=1$-замок открылся.\n",
    "Вычислим $\\displaystyle P(A)$:  "
   ]
  },
  {
   "cell_type": "code",
   "execution_count": 19,
   "id": "linear-yield",
   "metadata": {
    "scrolled": true
   },
   "outputs": [
    {
     "name": "stdout",
     "output_type": "stream",
     "text": [
      "P(открыть с первой попытки) = 0.0083\n"
     ]
    }
   ],
   "source": [
    "P=1/combinations(10,3)\n",
    "print(f'P(открыть с первой попытки) = {round(P,4)}')"
   ]
  },
  {
   "cell_type": "markdown",
   "id": "statutory-antibody",
   "metadata": {},
   "source": [
    "---\n",
    "\n",
    "#### Ответ:   \n",
    "$\\displaystyle P(\\text{открыть с первой попытки})\\approx0.0083\\approx0.83\\%$  \n",
    "\n",
    "---"
   ]
  },
  {
   "cell_type": "markdown",
   "id": "saving-arrival",
   "metadata": {},
   "source": [
    "**3) В ящике имеется 15 деталей, из которых 9 окрашены. Рабочий случайным образом извлекает 3 детали. Какова вероятность того, что все извлеченные детали окрашены?**  \n",
    "\n",
    "---"
   ]
  },
  {
   "cell_type": "markdown",
   "id": "paperback-estate",
   "metadata": {},
   "source": [
    "Общее количество исходов будет определяться количеством сочетаний 3 деталей из 15 $\\displaystyle n=C^3_{15}$, а количество благоприятных исходов - количеством сочетаний 3-х окрашенных деталей из 9  $\\displaystyle m=C^3_{9}$  \n",
    "Вычислим $P(\\text{3 из 3-х окрашены})$:"
   ]
  },
  {
   "cell_type": "code",
   "execution_count": 20,
   "id": "necessary-camel",
   "metadata": {},
   "outputs": [
    {
     "name": "stdout",
     "output_type": "stream",
     "text": [
      "P(3 из 3-х окрашены) = 0.1846\n"
     ]
    }
   ],
   "source": [
    "P=combinations(9,3)/combinations(15,3)\n",
    "print(f'P(3 из 3-х окрашены) = {round(P,4)}')"
   ]
  },
  {
   "cell_type": "markdown",
   "id": "proud-walnut",
   "metadata": {},
   "source": [
    "Или $P(\\text{3 из 3-х окрашены})=\\frac{9}{15}\\cdot\\frac{8}{14}\\cdot\\frac{7}{13}$"
   ]
  },
  {
   "cell_type": "code",
   "execution_count": 21,
   "id": "duplicate-buyer",
   "metadata": {},
   "outputs": [
    {
     "name": "stdout",
     "output_type": "stream",
     "text": [
      "P(3 из 3-х окрашены) = 0.1846\n"
     ]
    }
   ],
   "source": [
    "print(f'P(3 из 3-х окрашены) = {round(9/15*8/14*7/13,4)}')"
   ]
  },
  {
   "cell_type": "markdown",
   "id": "infrared-reviewer",
   "metadata": {},
   "source": [
    "---\n",
    "\n",
    "#### Ответ:  \n",
    "$P(\\text{3 из 3-х окрашены})\\approx0.1846\\approx18.46\\%$  \n",
    "\n",
    "---"
   ]
  },
  {
   "cell_type": "markdown",
   "id": "prostate-district",
   "metadata": {},
   "source": [
    "**4) В лотерее 100 билетов. Из них 2 выигрышных. Какова вероятность того, что 2 приобретенных билета окажутся выигрышными?**  \n",
    "\n",
    "---"
   ]
  },
  {
   "cell_type": "markdown",
   "id": "streaming-trainer",
   "metadata": {},
   "source": [
    "$\\displaystyle P(\\text{оба выигрышных})=\\frac{1}{C^2_{100}}=\\frac{1}{\\frac{100!}{2!(100-2)!}}=\\frac{2!\\cdot98!}{100!}$ или $\\displaystyle P(\\text{оба выигрышных})=\\frac{1}{100}\\cdot\\frac{1}{99}$  \n",
    "Вычислим:"
   ]
  },
  {
   "cell_type": "code",
   "execution_count": 22,
   "id": "irish-linux",
   "metadata": {},
   "outputs": [
    {
     "name": "stdout",
     "output_type": "stream",
     "text": [
      "P(оба выигрышных = 0.0002)\n"
     ]
    }
   ],
   "source": [
    "P=1/combinations(100,2)\n",
    "print(f'P(оба выигрышных = {round(P,4)})')"
   ]
  },
  {
   "cell_type": "markdown",
   "id": "acknowledged-trash",
   "metadata": {},
   "source": [
    "---\n",
    "\n",
    "#### Ответ:  \n",
    "$\\displaystyle P(\\text{оба выигрышных})\\approx0.0002\\approx0.02\\%$  \n",
    "\n",
    "---"
   ]
  },
  {
   "cell_type": "code",
   "execution_count": null,
   "id": "legal-sellers",
   "metadata": {},
   "outputs": [],
   "source": []
  }
 ],
 "metadata": {
  "kernelspec": {
   "display_name": "Python 3",
   "language": "python",
   "name": "python3"
  },
  "language_info": {
   "codemirror_mode": {
    "name": "ipython",
    "version": 3
   },
   "file_extension": ".py",
   "mimetype": "text/x-python",
   "name": "python",
   "nbconvert_exporter": "python",
   "pygments_lexer": "ipython3",
   "version": "3.8.5"
  }
 },
 "nbformat": 4,
 "nbformat_minor": 5
}
