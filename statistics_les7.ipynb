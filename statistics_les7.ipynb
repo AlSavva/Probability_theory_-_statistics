{
  "nbformat": 4,
  "nbformat_minor": 0,
  "metadata": {
    "colab": {
      "name": "Матстат - Урок 7.ipynb",
      "provenance": [],
      "collapsed_sections": []
    },
    "kernelspec": {
      "display_name": "Python 3",
      "language": "python",
      "name": "python3"
    }
  },
  "cells": [
    {
      "cell_type": "markdown",
      "metadata": {
        "id": "4fKVoFlAVV-j"
      },
      "source": [
        "### Многомерный статистический анализ. Линейная регрессия"
      ]
    },
    {
      "cell_type": "markdown",
      "metadata": {
        "id": "-H0TfXEAVV-c"
      },
      "source": [
        "## Урок 7"
      ]
    },
    {
      "cell_type": "markdown",
      "metadata": {
        "collapsed": true,
        "id": "5zgH9DMZVV-m"
      },
      "source": [
        "Часто в статистике анализируют **многомерные** наблюдения, то есть имеющие несколько признаков.\n",
        "\n",
        "Для этого применяют многомерный статистический анализ. Особенно часто его используют, когда нужно:\n",
        "\n",
        "* изучить зависимость между признаками;\n",
        "* классифицировать объекты с множеством признаков;\n",
        "* понизить размерность пространства признаков (если их слишком много и нет возможности отсеять часть)."
      ]
    },
    {
      "cell_type": "markdown",
      "metadata": {
        "collapsed": true,
        "id": "AQDbycHsVV-p"
      },
      "source": [
        "#### Линейная регрессия"
      ]
    },
    {
      "cell_type": "markdown",
      "metadata": {
        "collapsed": true,
        "id": "USkzHeDZVV-r"
      },
      "source": [
        "Рассмотрим связь между одной причиной $x$ и следствием $y$, то есть парную регрессию. Исходными данными являются $n$ значений \n",
        "\n",
        "фактора $x$ и соответствующие значения результативной величины $y$. Считаем, что связь между $x$ и $y$ описывается линейной\n",
        "\n",
        "функцией:"
      ]
    },
    {
      "cell_type": "markdown",
      "metadata": {
        "collapsed": true,
        "id": "De_v3D-bVV-u"
      },
      "source": [
        "$$y = a + bx$$"
      ]
    },
    {
      "cell_type": "markdown",
      "metadata": {
        "id": "xt_v2879VV-x"
      },
      "source": [
        "Для отдельного наблюдения имеем соотношение: $y_i = a + bx_i + \\varepsilon_i$, где:\n",
        "\n",
        "* $a$ и $b$ — коэффициенты регрессии;"
      ]
    },
    {
      "cell_type": "markdown",
      "metadata": {
        "id": "X0KsabZnVV-1"
      },
      "source": [
        "* $\\varepsilon_i \\; $—  так называемый остаток — независимая случайная величина, имеющая нормальное распределение с математическим \n",
        "ожиданием, равным нулю, и постоянной дисперсией. \n",
        "\n",
        "То есть это ошибка, которую будет допускать модель из-за того, что изменение признака $x$\n",
        "не всегда точно будет отражать \n",
        "изменение $y$. Значит в модели не будут учтены пока неизвестные факторы."
      ]
    },
    {
      "cell_type": "markdown",
      "metadata": {
        "id": "ThmJCMj-VV-7"
      },
      "source": [
        "\n",
        "\n",
        "```\n",
        "# Выбран кодовый формат\n",
        "```\n",
        "\n",
        "Коэффициенты уравнения линейной регрессии можно найти следующим образом:"
      ]
    },
    {
      "cell_type": "markdown",
      "metadata": {
        "id": "5jpndXoH9ZvG"
      },
      "source": [
        ""
      ]
    },
    {
      "cell_type": "markdown",
      "metadata": {
        "id": "grN67iKpVV--"
      },
      "source": [
        "$$b = \\frac{\\overline{yx} - \\overline{y} \\cdot {\\overline{x}}}{\\overline{x^2} - (\\overline{x})^2};$$"
      ]
    },
    {
      "cell_type": "markdown",
      "metadata": {
        "id": "gPAIXETsVV_C"
      },
      "source": [
        "$$a = \\overline{y} - b \\cdot {\\overline{x}}.$$"
      ]
    },
    {
      "cell_type": "markdown",
      "metadata": {
        "id": "C_rj8cVOVV_F"
      },
      "source": [
        "С помощью коэффициента корреляции можно узнать, насколько тесна линейная связь между переменными:\n",
        "\n",
        "> Блок с отступами\n",
        "\n"
      ]
    },
    {
      "cell_type": "markdown",
      "metadata": {
        "id": "joniC-PwVV_H"
      },
      "source": [
        "\n",
        "\n",
        "$$r_{xy} = \\frac{\\sum\\limits_{i=1}^{n} (x_i - \\overline{x})(y_i - \\overline{y})} {\\sqrt{\\sum\\limits_{i=1}^{n} (x_i - \\overline{x})^2 \\cdot {\\sum\\limits_{i=1}^{n} (y_i - \\overline{y})^2}}} = b \\cdot {\\frac{\\sigma_x}{\\sigma_y}}$$"
      ]
    },
    {
      "cell_type": "markdown",
      "metadata": {
        "id": "zDK2FHljVV_M"
      },
      "source": [
        "где $n$ — объем выборки;"
      ]
    },
    {
      "cell_type": "markdown",
      "metadata": {
        "id": "4_iSHBmQVV_Q"
      },
      "source": [
        "$\\overline{x} = \\frac{1}{n} \\sum\\limits_{i=1}^{n} x_i$ и $\\overline{y} = \\frac{1}{n} \\sum\\limits_{i=1}^{n} y_i$ — выборочные средние."
      ]
    },
    {
      "cell_type": "markdown",
      "metadata": {
        "id": "zg9XW-JEVV_U"
      },
      "source": [
        "\n",
        "\n",
        "\n",
        "\n",
        "\n",
        "Узнать, насколько велика связь между переменными $x$ и $y$, можно через коэффициент детерминации. Его можно посчитать\n",
        "\n",
        "как квадрат коэффициента корреляции:"
      ]
    },
    {
      "cell_type": "markdown",
      "metadata": {
        "id": "NZHJPivXVV_X"
      },
      "source": [
        "$$R^2 = r^{2}_{xy}$$"
      ]
    },
    {
      "cell_type": "markdown",
      "metadata": {
        "id": "j4EVvYhkVV_e"
      },
      "source": [
        "Коэффициент детерминации принимает значения до 1 включительно и показывает долю вариации результативного признака $y$ \n",
        "\n",
        "под влиянием признака $x$."
      ]
    },
    {
      "cell_type": "markdown",
      "metadata": {
        "id": "Z_iVYtYPVV_h"
      },
      "source": [
        "С помощью средней ошибки аппроксимации можно оценить качество работы модели:"
      ]
    },
    {
      "cell_type": "markdown",
      "metadata": {
        "id": "54mVaa3sVV_k"
      },
      "source": [
        "$$\\overline{A} = \\frac{1}{n} \\sum\\limits_{i=1}^{n} \\Bigl |{{\\frac{y_i - \\hat{y}_i}{y_i}} \\Bigr |} \\cdot{100\\%}$$"
      ]
    },
    {
      "cell_type": "markdown",
      "metadata": {
        "id": "ww_GrZinVV_n"
      },
      "source": [
        "если $\\overline{A}$ не превышает 8-10 %, можно сказать, что теоретические значения близки к тем, которые выдает модель \n",
        "\n",
        "линейной регрессии."
      ]
    },
    {
      "cell_type": "markdown",
      "metadata": {
        "id": "MjJ3CBxSVV_q"
      },
      "source": [
        "**F-критерий Фишера** позволяет оценить значимость уравнения линейной регрессии в целом."
      ]
    },
    {
      "cell_type": "markdown",
      "metadata": {
        "id": "aVNmzQYfVV_s"
      },
      "source": [
        "Фактическую величину F-критерия для парной линейной регрессии (когда есть только один факторный признак)\n",
        "\n",
        "можно вычислить по формуле, включающей коэффициент детерминации:"
      ]
    },
    {
      "cell_type": "markdown",
      "metadata": {
        "id": "OAN52VMgVV_v"
      },
      "source": [
        "$$F_{факт} = \\frac{r_{xy}^{2} \\cdot (n - 2)}{(1 - r_{xy}^{2})}$$"
      ]
    },
    {
      "cell_type": "markdown",
      "metadata": {
        "id": "WsYRUjkKVV_3"
      },
      "source": [
        "где $k_1$ и $k_2$ — это степени свободы, $k_1$ — количество факторных признаков (для парной линейной регрессии оно равно 1).\n",
        "\n",
        "$k_2$ = $n - k - 1$, где $n$ — это число наблюдений и $k$ — число факторных признаков (для парной линейной регрессии $k_2 = n - 2$, \n",
        "\n",
        "то есть числу наблюдений, уменьшенному на 2)."
      ]
    },
    {
      "cell_type": "markdown",
      "metadata": {
        "id": "wE7G-VW9VV_5"
      },
      "source": [
        "Таблицу значений F-критерия Фишера ($F_{кр}$) можно посмотреть по ссылке: <a href='https://www.chem-astu.ru/science/reference/F-statistic.html'>Таблица критерия Фишера</a>"
      ]
    },
    {
      "cell_type": "markdown",
      "metadata": {
        "id": "3IOL7ITuHQSa"
      },
      "source": [
        ""
      ]
    },
    {
      "cell_type": "markdown",
      "metadata": {
        "id": "4gyc8-NnVV_8"
      },
      "source": [
        "Если $F_{факт} > F_{кр}$, то уравнение регрессии признается статистически значимым."
      ]
    },
    {
      "cell_type": "markdown",
      "metadata": {
        "id": "bkORUteXVV_-"
      },
      "source": [
        "Формула для большего числа признаков:"
      ]
    },
    {
      "cell_type": "markdown",
      "metadata": {
        "id": "9OvKeun8VWAB"
      },
      "source": [
        "$$F_{факт} = \\frac{r_{xy}^{2}}{(1 - r_{xy}^{2})} \\cdot \\frac{k_2}{k_1}$$"
      ]
    },
    {
      "cell_type": "markdown",
      "metadata": {
        "id": "mQnZdrNJVWAD"
      },
      "source": [
        "**Стандартная ошибка** $s_{ост}$ рассчитывается по формуле:"
      ]
    },
    {
      "cell_type": "markdown",
      "metadata": {
        "id": "_UJtAFa1VWAG"
      },
      "source": [
        "$$S_{ост} = \\sqrt{\\frac{\\sum\\limits_{i=1}^{n}(y_i - \\hat{y}_i)^2}{n - 2}}$$"
      ]
    },
    {
      "cell_type": "markdown",
      "metadata": {
        "id": "OQ4TKY9SVWAK"
      },
      "source": [
        "*Оценка* статистической значимости параметров регрессии проводится с помощью  **t-статистики Стьюдента** и путем расчета \n",
        "\n",
        "доверительного интервала каждого из показателей."
      ]
    },
    {
      "cell_type": "markdown",
      "metadata": {
        "id": "a9FdSqNPVWAN"
      },
      "source": [
        "Чтобы найти табличное значение $t$-статистики Стьюдента, нужно знать число степеней свободы и уровень значимости $\\alpha$."
      ]
    },
    {
      "cell_type": "markdown",
      "metadata": {
        "id": "EzY8vjpRVWAQ"
      },
      "source": [
        "*Значение* уровня значимости $\\alpha$ выбирается статистиком произвольно (например, это может быть значение 0.05).\n",
        "\n",
        "Число степеней свободы равно $df = n - m -1$, где $n$ — число наблюдений и $m$ — число признаков (факторов).\n",
        "\n",
        "Например, для парной регрессии число степеней свободы будет равно $n - 2$."
      ]
    },
    {
      "cell_type": "markdown",
      "metadata": {
        "id": "owczfmwxVWAT"
      },
      "source": [
        "Наблюдаемые значения критерия $t_a = \\frac{a}{m_a}$ и $t_b = \\frac{b}{m_b}$ сравниваются с табличными (при двухсторонней критической области):"
      ]
    },
    {
      "cell_type": "markdown",
      "metadata": {
        "id": "cVXag8OhVWAX"
      },
      "source": [
        "$$t_{кр} = \\mp T \\Bigl ( 1 - \\frac{\\alpha}{2}; \\; n - 2 \\Bigr )$$"
      ]
    },
    {
      "cell_type": "markdown",
      "metadata": {
        "id": "4qteIbkZVWAZ"
      },
      "source": [
        "Если расчетное значение критерия $t_a$, $t_b$ больше табличного значения $t_{кр}$ при заданном  уровне значимости $\\alpha$ (0,1; 0,05; 0,01), \n",
        "\n",
        "то коэффициент регрессии считается значимым. Cлучайные ошибки $m_a$, $m_b$ находятся по формулам:"
      ]
    },
    {
      "cell_type": "markdown",
      "metadata": {
        "id": "CkJE9RrHVWAe"
      },
      "source": [
        "$$m_a  = S_{ост} \\cdot {\\frac{\\sqrt{\\sum{x^2}}}{n \\cdot {\\sigma_x}}}$$"
      ]
    },
    {
      "cell_type": "markdown",
      "metadata": {
        "id": "uG7WxPpcVWAi"
      },
      "source": [
        "$$m_b = \\frac{S_{ост}}{\\sigma_x \\cdot{\\sqrt{n}}}$$"
      ]
    },
    {
      "cell_type": "markdown",
      "metadata": {
        "id": "zpJ4o3mgVWAp"
      },
      "source": [
        "Далее необходимо найти доверительные интервалы для параметров регрессии $a$ и $b$.   Рассчитываем предельную ошибку для каждого показателя:"
      ]
    },
    {
      "cell_type": "markdown",
      "metadata": {
        "id": "0oF3BQiRVWA1"
      },
      "source": [
        "$$\\Delta_a = t_{кр} \\cdot m_a; \\; \\Delta_b = t_{кр} \\cdot m_b.$$"
      ]
    },
    {
      "cell_type": "markdown",
      "metadata": {
        "id": "BcDzuuFCVWA7"
      },
      "source": [
        "Доверительные интервалы:"
      ]
    },
    {
      "cell_type": "markdown",
      "metadata": {
        "id": "vBLhCg7OVWA-"
      },
      "source": [
        "$$\\gamma_a = a \\pm \\Delta_a; \\; \\gamma_b = b \\pm \\Delta_b.$$"
      ]
    },
    {
      "cell_type": "markdown",
      "metadata": {
        "id": "LGdvpWQmVWBA"
      },
      "source": [
        "**Пример 1**"
      ]
    },
    {
      "cell_type": "markdown",
      "metadata": {
        "id": "xFyCeSbsVWBE"
      },
      "source": [
        "Возьмем исходные данные для расчета параметров. Это будут значения площадей квартир в квадратных метрах (массив $x$) \n",
        "\n",
        "и цены на эти квартиры в тысячах долларов (массив $y$), приведеннные для 12 наблюдений."
      ]
    },
    {
      "cell_type": "markdown",
      "metadata": {
        "id": "cWNyeSfjVWBH"
      },
      "source": [
        "Необходимо построить уравнение парной линейной регрессии, оценить ее точность и адекватность. Создадим массивы $x$ и $y$:"
      ]
    },
    {
      "cell_type": "code",
      "metadata": {
        "id": "8kLkCTNMVWBL"
      },
      "source": [
        "import numpy as np\n",
        "\n",
        "# количество наблюдений\n",
        "n = 12\n",
        "\n",
        "x = np.array([80, 90, 85, 115, 85, 85, 90, 80, 105, 110, 65, 100], dtype=np.float64)\n",
        "y = np.array([150, 160, 155, 175, 140, 150, 140, 155, 165, 190, 140, 165], dtype=np.float64)"
      ],
      "execution_count": null,
      "outputs": []
    },
    {
      "cell_type": "markdown",
      "metadata": {
        "collapsed": true,
        "id": "eIcZNHliVWBW"
      },
      "source": [
        "Для нахождения коэффициентов регрессии $a$ и $b$ воспользуемся приведенными выше формулами:"
      ]
    },
    {
      "cell_type": "code",
      "metadata": {
        "id": "r1mT4pdSVWBY",
        "colab": {
          "base_uri": "https://localhost:8080/"
        },
        "outputId": "2cfd8173-efaa-4cfe-a869-bbce2ed4bed2"
      },
      "source": [
        "b = (np.mean(x * y) - np.mean(x) * np.mean(y)) / (np.mean(x**2) - np.mean(x) ** 2)\n",
        "b"
      ],
      "execution_count": null,
      "outputs": [
        {
          "output_type": "execute_result",
          "data": {
            "text/plain": [
              "0.8717472118959082"
            ]
          },
          "metadata": {
            "tags": []
          },
          "execution_count": 2
        }
      ]
    },
    {
      "cell_type": "code",
      "metadata": {
        "id": "3eenHRuhVWBl",
        "colab": {
          "base_uri": "https://localhost:8080/"
        },
        "outputId": "256fb08a-ba18-446c-8b4d-fc099a7cf550"
      },
      "source": [
        "a = np.mean(y) - b * np.mean(x)\n",
        "a"
      ],
      "execution_count": null,
      "outputs": [
        {
          "output_type": "execute_result",
          "data": {
            "text/plain": [
              "77.89962825278835"
            ]
          },
          "metadata": {
            "tags": []
          },
          "execution_count": 3
        }
      ]
    },
    {
      "cell_type": "markdown",
      "metadata": {
        "collapsed": true,
        "id": "F4wExIGGVWBv"
      },
      "source": [
        "Итак, уравнение регрессии имеет вид (коэффициенты округлены до сотых):"
      ]
    },
    {
      "cell_type": "markdown",
      "metadata": {
        "collapsed": true,
        "id": "EAnsjUv4VWB0"
      },
      "source": [
        "$$y = 77.9 + 0.87 \\cdot x$$"
      ]
    },
    {
      "cell_type": "markdown",
      "metadata": {
        "id": "GSvgSj2WVWB2"
      },
      "source": [
        "С увеличением площади квартиры на 1 квадратный метр цена возрастет на 0.87 тысячи долларов."
      ]
    },
    {
      "cell_type": "markdown",
      "metadata": {
        "id": "Jj60_kNBVWB4"
      },
      "source": [
        "Найдем коэффициент корреляции $r$ с помощью коэффициента $b$ и средних квадратического отклонения, посчитанного для массивов $x$ и $y$:"
      ]
    },
    {
      "cell_type": "code",
      "metadata": {
        "id": "-rzWVsRKVWB5",
        "colab": {
          "base_uri": "https://localhost:8080/"
        },
        "outputId": "7ba70887-1517-47cc-f732-c0eba7049127"
      },
      "source": [
        "r = b * np.std(x) / np.std(y)\n",
        "r"
      ],
      "execution_count": null,
      "outputs": [
        {
          "output_type": "execute_result",
          "data": {
            "text/plain": [
              "0.8217214638352004"
            ]
          },
          "metadata": {
            "tags": []
          },
          "execution_count": 4
        }
      ]
    },
    {
      "cell_type": "markdown",
      "metadata": {
        "id": "yCebK69XVWCC"
      },
      "source": [
        "Найдем коэффициент детерминации $R^2$:"
      ]
    },
    {
      "cell_type": "code",
      "metadata": {
        "id": "0ooklfCzVWCD",
        "colab": {
          "base_uri": "https://localhost:8080/"
        },
        "outputId": "329a326f-35a6-440a-c82c-eac89b8538d9"
      },
      "source": [
        "R2 = r**2\n",
        "R2"
      ],
      "execution_count": null,
      "outputs": [
        {
          "output_type": "execute_result",
          "data": {
            "text/plain": [
              "0.6752261641274645"
            ]
          },
          "metadata": {
            "tags": []
          },
          "execution_count": 5
        }
      ]
    },
    {
      "cell_type": "markdown",
      "metadata": {
        "id": "UNooD5xJVWCP"
      },
      "source": [
        "Это означает, что 67.5% вариации цены на квартиру ($y$) объясняется вариацией фактора $x$ — площади квартиры."
      ]
    },
    {
      "cell_type": "markdown",
      "metadata": {
        "id": "RgW1rXkEVWCR"
      },
      "source": [
        "С помощью этого уравнения регрессии посчитаем значения, предсказанные моделью значения цен на квартиры:"
      ]
    },
    {
      "cell_type": "code",
      "metadata": {
        "id": "1pStjYk9VWCS",
        "colab": {
          "base_uri": "https://localhost:8080/"
        },
        "outputId": "67f28152-dde5-40c2-f347-5116d8d9d5e3"
      },
      "source": [
        "y_pred = a + b * x\n",
        "y_pred"
      ],
      "execution_count": null,
      "outputs": [
        {
          "output_type": "execute_result",
          "data": {
            "text/plain": [
              "array([147.6394052 , 156.35687732, 151.99814126, 178.15055762,\n",
              "       151.99814126, 151.99814126, 156.35687732, 147.6394052 ,\n",
              "       169.4330855 , 173.79182156, 134.56319703, 165.07434944])"
            ]
          },
          "metadata": {
            "tags": []
          },
          "execution_count": 6
        }
      ]
    },
    {
      "cell_type": "markdown",
      "metadata": {
        "id": "ymhf8BfBVWCc"
      },
      "source": [
        "Качество модели найдем с помощью средней ошибки аппроксимации $\\overline {A}$:"
      ]
    },
    {
      "cell_type": "code",
      "metadata": {
        "id": "bv3vJejlVWCg",
        "outputId": "37345701-3c7a-439c-a8d8-b41b796f3364"
      },
      "source": [
        "A_mean = 100 * np.mean(np.abs((y - y_pred) / y))\n",
        "A_mean"
      ],
      "execution_count": null,
      "outputs": [
        {
          "output_type": "execute_result",
          "data": {
            "text/plain": [
              "4.0889968858542218"
            ]
          },
          "metadata": {
            "tags": []
          },
          "execution_count": 156
        }
      ]
    },
    {
      "cell_type": "markdown",
      "metadata": {
        "id": "2lpGd6eKVWCw"
      },
      "source": [
        "Так как $\\overline {A}$ равна 4%, что не превышает 8-10 %, модель хорошо описывает эмпирические данные. Для оценки значимости \n",
        "\n",
        "уравнения регрессии воспользуемся F-критерием Фишера. Найдем фактическое значение $F$-критерия ($F_{факт}$):"
      ]
    },
    {
      "cell_type": "code",
      "metadata": {
        "id": "2s_12smQVWC0",
        "outputId": "d64e2a92-3d60-43b9-d7a1-ef349f56a542"
      },
      "source": [
        "F_fact = (r**2 * (n - 2)) / (1 - r**2)\n",
        "F_fact"
      ],
      "execution_count": null,
      "outputs": [
        {
          "output_type": "execute_result",
          "data": {
            "text/plain": [
              "20.790657668386551"
            ]
          },
          "metadata": {
            "tags": []
          },
          "execution_count": 157
        }
      ]
    },
    {
      "cell_type": "markdown",
      "metadata": {
        "id": "tRrc_mzoVWC9"
      },
      "source": [
        "При 5 % уровне значимости и степенях свободы $k_1 = 1$ и $k_2 = 12 - 2 = 10$ табличное значение критерия: $F_{кр} = 4.96$.\n",
        "\n",
        "Так как $F_{факт} = 20.79 > F_{кр} = 4.96$, уравнение регрессии статистически значимо."
      ]
    },
    {
      "cell_type": "markdown",
      "metadata": {
        "id": "7AW4TKZLVWDC"
      },
      "source": [
        "Для оценки статистической значимости параметров регрессии воспользуемся $t$-статистикой Стьюдента и также рассчитаем \n",
        "\n",
        "доверительные интервалы каждого из показателей. При $df = n - 2 = 12 - 2 = 10$ и $\\alpha = 0.05$ получим\n",
        "\n",
        "(см. <a href='https://statpsy.ru/t-student/t-test-tablica/'>Таблицу критических значений t-критерия Стьюдента</a>):"
      ]
    },
    {
      "cell_type": "markdown",
      "metadata": {
        "id": "0R9OLU3rVWDE"
      },
      "source": [
        "$$t_{кр} = 2.228$$"
      ]
    },
    {
      "cell_type": "markdown",
      "metadata": {
        "id": "KolP5udaVWDH"
      },
      "source": [
        "Определим стандартную ошибку $S_{ост}$ (переменная **s_residual**) и случайные ошибки $m_a, \\; m_b$:"
      ]
    },
    {
      "cell_type": "code",
      "metadata": {
        "id": "y7ZtBGJXVWDI",
        "outputId": "d28f0a73-ddc5-4152-e9fd-6686aec76bf0"
      },
      "source": [
        "s_residual = np.sqrt(np.sum((y - y_pred)**2) / (n - 2))\n",
        "m_a = s_residual * np.sqrt(np.sum(x ** 2)) / (n * np.std(x))\n",
        "m_b = s_residual / (np.std(x) * np.sqrt(n))\n",
        "\n",
        "print('s_residual = {}\\nm_a = {}\\nm_b = {}'.format(s_residual, m_a, m_b))"
      ],
      "execution_count": null,
      "outputs": [
        {
          "output_type": "stream",
          "text": [
            "s_residual = 9.051946328939835\n",
            "m_a = 17.5615702861546\n",
            "m_b = 0.19118616125822904\n"
          ],
          "name": "stdout"
        }
      ]
    },
    {
      "cell_type": "markdown",
      "metadata": {
        "id": "mrYy3Z2JVWDQ"
      },
      "source": [
        "Вычислим наблюдаемые значения критерия $t_a$ и $t_b$:"
      ]
    },
    {
      "cell_type": "code",
      "metadata": {
        "id": "7F0Yci-HVWDS",
        "outputId": "4189e74c-8d82-4d7d-8d8f-d08ae828b8d3"
      },
      "source": [
        "t_a = a / m_a\n",
        "t_a"
      ],
      "execution_count": null,
      "outputs": [
        {
          "output_type": "execute_result",
          "data": {
            "text/plain": [
              "4.4358008414659702"
            ]
          },
          "metadata": {
            "tags": []
          },
          "execution_count": 159
        }
      ]
    },
    {
      "cell_type": "code",
      "metadata": {
        "id": "UfXZXkmpVWDd",
        "outputId": "45e8fba5-84b1-4e1c-c21a-78968c272c9b"
      },
      "source": [
        "t_b = b / m_b\n",
        "t_b"
      ],
      "execution_count": null,
      "outputs": [
        {
          "output_type": "execute_result",
          "data": {
            "text/plain": [
              "4.5596773645058288"
            ]
          },
          "metadata": {
            "tags": []
          },
          "execution_count": 160
        }
      ]
    },
    {
      "cell_type": "markdown",
      "metadata": {
        "id": "qNAXIaijVWDk"
      },
      "source": [
        "Фактические значения t-статистики больше табличного значения:"
      ]
    },
    {
      "cell_type": "markdown",
      "metadata": {
        "id": "wGlkWCg2VWDl"
      },
      "source": [
        "$$t_a = 4.44 > t_{кр} = 2.228, \\; t_b = 4.56 > t_{кр} = 2.228,$$"
      ]
    },
    {
      "cell_type": "markdown",
      "metadata": {
        "id": "8kwL6vR_VWDp"
      },
      "source": [
        "поэтому параметры $a$ и $b$ не случайно отличаются от нуля, то есть они статистически значимы."
      ]
    },
    {
      "cell_type": "markdown",
      "metadata": {
        "id": "uc7Zz2h1VWDr"
      },
      "source": [
        "Рассчитаем доверительные интервалы для параметров регрессии $a$ и $b$. Для этого определим предельную ошибку для каждого показателя ($\\Delta_a$ и $\\Delta_b$),\n",
        "\n",
        "используя значение $t_{кр}$, равное 2.228 (переменная **t_cr**):"
      ]
    },
    {
      "cell_type": "code",
      "metadata": {
        "id": "pW5Qj3ryVWDt"
      },
      "source": [
        "t_cr = 2.228"
      ],
      "execution_count": null,
      "outputs": []
    },
    {
      "cell_type": "code",
      "metadata": {
        "id": "wfIm3E5xVWDy",
        "outputId": "d4a9f8de-fbbe-4763-951e-c62495b79bc4"
      },
      "source": [
        "delta_a = t_cr * m_a\n",
        "delta_a"
      ],
      "execution_count": null,
      "outputs": [
        {
          "output_type": "execute_result",
          "data": {
            "text/plain": [
              "40.040380252432477"
            ]
          },
          "metadata": {
            "tags": []
          },
          "execution_count": 162
        }
      ]
    },
    {
      "cell_type": "code",
      "metadata": {
        "id": "gF3fKd8OVWD5",
        "outputId": "7f6bfc7d-2bbe-4043-f6ff-84eef9cf8a77"
      },
      "source": [
        "delta_b = t_cr * m_b\n",
        "delta_b"
      ],
      "execution_count": null,
      "outputs": [
        {
          "output_type": "execute_result",
          "data": {
            "text/plain": [
              "0.43590444766876218"
            ]
          },
          "metadata": {
            "tags": []
          },
          "execution_count": 163
        }
      ]
    },
    {
      "cell_type": "markdown",
      "metadata": {
        "id": "sHUTKIhTVWD-"
      },
      "source": [
        "Найдем границы доверительных интервалов $\\gamma_{a_{min}}, \\gamma_{a_{max}}, \\gamma_{b_{min}}, \\gamma_{b_{max}}$:"
      ]
    },
    {
      "cell_type": "code",
      "metadata": {
        "id": "mv8YJBn6VWEB",
        "outputId": "04bd75a0-b0ee-4a86-e29a-75a94bebbc38"
      },
      "source": [
        "gamma_a_min = a - delta_a\n",
        "gamma_a_min"
      ],
      "execution_count": null,
      "outputs": [
        {
          "output_type": "execute_result",
          "data": {
            "text/plain": [
              "37.859248000355869"
            ]
          },
          "metadata": {
            "tags": []
          },
          "execution_count": 164
        }
      ]
    },
    {
      "cell_type": "code",
      "metadata": {
        "id": "K7kHFohfVWER",
        "outputId": "b1fe9679-3ccb-4c06-dd2b-888e3cc8a4ea"
      },
      "source": [
        "gamma_a_max = a + delta_a\n",
        "gamma_a_max"
      ],
      "execution_count": null,
      "outputs": [
        {
          "output_type": "execute_result",
          "data": {
            "text/plain": [
              "117.94000850522082"
            ]
          },
          "metadata": {
            "tags": []
          },
          "execution_count": 165
        }
      ]
    },
    {
      "cell_type": "code",
      "metadata": {
        "id": "adNd5XPZVWEZ",
        "outputId": "96112003-d302-454f-b790-42f493d092ca"
      },
      "source": [
        "gamma_b_min = b - delta_b\n",
        "gamma_b_min"
      ],
      "execution_count": null,
      "outputs": [
        {
          "output_type": "execute_result",
          "data": {
            "text/plain": [
              "0.43584276422714602"
            ]
          },
          "metadata": {
            "tags": []
          },
          "execution_count": 166
        }
      ]
    },
    {
      "cell_type": "code",
      "metadata": {
        "id": "QYwAhhdHVWEf",
        "outputId": "0d80891f-a7c9-4e5a-fb74-f7ac1454d583"
      },
      "source": [
        "gamma_b_max = b + delta_b\n",
        "gamma_b_max"
      ],
      "execution_count": null,
      "outputs": [
        {
          "output_type": "execute_result",
          "data": {
            "text/plain": [
              "1.3076516595646703"
            ]
          },
          "metadata": {
            "tags": []
          },
          "execution_count": 167
        }
      ]
    },
    {
      "cell_type": "markdown",
      "metadata": {
        "id": "KzUe1mDhVWEk"
      },
      "source": [
        "Приходим к выводу о том, что с вероятностью $p = 1 - \\alpha = 0.95$ параметры $a$ и $b$, находясь в указанных границах, \n",
        "\n",
        "являются статистически значимыми и отличны от нуля. Поместим исходные и предсказанные данные в датафрейм **df**:"
      ]
    },
    {
      "cell_type": "code",
      "metadata": {
        "id": "Addxji38VWEm",
        "outputId": "b837fbcb-18b7-48c2-ada8-cda8ff7db702"
      },
      "source": [
        "import pandas as pd\n",
        "\n",
        "df = pd.DataFrame({'x': x, 'y': y, 'y_pred': y_pred}, columns=['x', 'y', 'y_pred'])\n",
        "df"
      ],
      "execution_count": null,
      "outputs": [
        {
          "output_type": "execute_result",
          "data": {
            "text/html": [
              "<div>\n",
              "<style scoped>\n",
              "    .dataframe tbody tr th:only-of-type {\n",
              "        vertical-align: middle;\n",
              "    }\n",
              "\n",
              "    .dataframe tbody tr th {\n",
              "        vertical-align: top;\n",
              "    }\n",
              "\n",
              "    .dataframe thead th {\n",
              "        text-align: right;\n",
              "    }\n",
              "</style>\n",
              "<table border=\"1\" class=\"dataframe\">\n",
              "  <thead>\n",
              "    <tr style=\"text-align: right;\">\n",
              "      <th></th>\n",
              "      <th>x</th>\n",
              "      <th>y</th>\n",
              "      <th>y_pred</th>\n",
              "    </tr>\n",
              "  </thead>\n",
              "  <tbody>\n",
              "    <tr>\n",
              "      <th>0</th>\n",
              "      <td>80.0</td>\n",
              "      <td>150.0</td>\n",
              "      <td>147.639405</td>\n",
              "    </tr>\n",
              "    <tr>\n",
              "      <th>1</th>\n",
              "      <td>90.0</td>\n",
              "      <td>160.0</td>\n",
              "      <td>156.356877</td>\n",
              "    </tr>\n",
              "    <tr>\n",
              "      <th>2</th>\n",
              "      <td>85.0</td>\n",
              "      <td>155.0</td>\n",
              "      <td>151.998141</td>\n",
              "    </tr>\n",
              "    <tr>\n",
              "      <th>3</th>\n",
              "      <td>115.0</td>\n",
              "      <td>175.0</td>\n",
              "      <td>178.150558</td>\n",
              "    </tr>\n",
              "    <tr>\n",
              "      <th>4</th>\n",
              "      <td>85.0</td>\n",
              "      <td>140.0</td>\n",
              "      <td>151.998141</td>\n",
              "    </tr>\n",
              "    <tr>\n",
              "      <th>5</th>\n",
              "      <td>85.0</td>\n",
              "      <td>150.0</td>\n",
              "      <td>151.998141</td>\n",
              "    </tr>\n",
              "    <tr>\n",
              "      <th>6</th>\n",
              "      <td>90.0</td>\n",
              "      <td>140.0</td>\n",
              "      <td>156.356877</td>\n",
              "    </tr>\n",
              "    <tr>\n",
              "      <th>7</th>\n",
              "      <td>80.0</td>\n",
              "      <td>155.0</td>\n",
              "      <td>147.639405</td>\n",
              "    </tr>\n",
              "    <tr>\n",
              "      <th>8</th>\n",
              "      <td>105.0</td>\n",
              "      <td>165.0</td>\n",
              "      <td>169.433086</td>\n",
              "    </tr>\n",
              "    <tr>\n",
              "      <th>9</th>\n",
              "      <td>110.0</td>\n",
              "      <td>190.0</td>\n",
              "      <td>173.791822</td>\n",
              "    </tr>\n",
              "    <tr>\n",
              "      <th>10</th>\n",
              "      <td>65.0</td>\n",
              "      <td>140.0</td>\n",
              "      <td>134.563197</td>\n",
              "    </tr>\n",
              "    <tr>\n",
              "      <th>11</th>\n",
              "      <td>100.0</td>\n",
              "      <td>165.0</td>\n",
              "      <td>165.074349</td>\n",
              "    </tr>\n",
              "  </tbody>\n",
              "</table>\n",
              "</div>"
            ],
            "text/plain": [
              "        x      y      y_pred\n",
              "0    80.0  150.0  147.639405\n",
              "1    90.0  160.0  156.356877\n",
              "2    85.0  155.0  151.998141\n",
              "3   115.0  175.0  178.150558\n",
              "4    85.0  140.0  151.998141\n",
              "5    85.0  150.0  151.998141\n",
              "6    90.0  140.0  156.356877\n",
              "7    80.0  155.0  147.639405\n",
              "8   105.0  165.0  169.433086\n",
              "9   110.0  190.0  173.791822\n",
              "10   65.0  140.0  134.563197\n",
              "11  100.0  165.0  165.074349"
            ]
          },
          "metadata": {
            "tags": []
          },
          "execution_count": 168
        }
      ]
    },
    {
      "cell_type": "markdown",
      "metadata": {
        "id": "pF4NpdpYVWEt"
      },
      "source": [
        "Отсортируем значения по полю **x**:"
      ]
    },
    {
      "cell_type": "code",
      "metadata": {
        "id": "lX0_69KpVWEv",
        "outputId": "234284c5-6021-4c6e-b4e1-aa4b63d23915"
      },
      "source": [
        "df = df.sort_values('x')\n",
        "df"
      ],
      "execution_count": null,
      "outputs": [
        {
          "output_type": "execute_result",
          "data": {
            "text/html": [
              "<div>\n",
              "<style scoped>\n",
              "    .dataframe tbody tr th:only-of-type {\n",
              "        vertical-align: middle;\n",
              "    }\n",
              "\n",
              "    .dataframe tbody tr th {\n",
              "        vertical-align: top;\n",
              "    }\n",
              "\n",
              "    .dataframe thead th {\n",
              "        text-align: right;\n",
              "    }\n",
              "</style>\n",
              "<table border=\"1\" class=\"dataframe\">\n",
              "  <thead>\n",
              "    <tr style=\"text-align: right;\">\n",
              "      <th></th>\n",
              "      <th>x</th>\n",
              "      <th>y</th>\n",
              "      <th>y_pred</th>\n",
              "    </tr>\n",
              "  </thead>\n",
              "  <tbody>\n",
              "    <tr>\n",
              "      <th>10</th>\n",
              "      <td>65.0</td>\n",
              "      <td>140.0</td>\n",
              "      <td>134.563197</td>\n",
              "    </tr>\n",
              "    <tr>\n",
              "      <th>0</th>\n",
              "      <td>80.0</td>\n",
              "      <td>150.0</td>\n",
              "      <td>147.639405</td>\n",
              "    </tr>\n",
              "    <tr>\n",
              "      <th>7</th>\n",
              "      <td>80.0</td>\n",
              "      <td>155.0</td>\n",
              "      <td>147.639405</td>\n",
              "    </tr>\n",
              "    <tr>\n",
              "      <th>2</th>\n",
              "      <td>85.0</td>\n",
              "      <td>155.0</td>\n",
              "      <td>151.998141</td>\n",
              "    </tr>\n",
              "    <tr>\n",
              "      <th>4</th>\n",
              "      <td>85.0</td>\n",
              "      <td>140.0</td>\n",
              "      <td>151.998141</td>\n",
              "    </tr>\n",
              "    <tr>\n",
              "      <th>5</th>\n",
              "      <td>85.0</td>\n",
              "      <td>150.0</td>\n",
              "      <td>151.998141</td>\n",
              "    </tr>\n",
              "    <tr>\n",
              "      <th>1</th>\n",
              "      <td>90.0</td>\n",
              "      <td>160.0</td>\n",
              "      <td>156.356877</td>\n",
              "    </tr>\n",
              "    <tr>\n",
              "      <th>6</th>\n",
              "      <td>90.0</td>\n",
              "      <td>140.0</td>\n",
              "      <td>156.356877</td>\n",
              "    </tr>\n",
              "    <tr>\n",
              "      <th>11</th>\n",
              "      <td>100.0</td>\n",
              "      <td>165.0</td>\n",
              "      <td>165.074349</td>\n",
              "    </tr>\n",
              "    <tr>\n",
              "      <th>8</th>\n",
              "      <td>105.0</td>\n",
              "      <td>165.0</td>\n",
              "      <td>169.433086</td>\n",
              "    </tr>\n",
              "    <tr>\n",
              "      <th>9</th>\n",
              "      <td>110.0</td>\n",
              "      <td>190.0</td>\n",
              "      <td>173.791822</td>\n",
              "    </tr>\n",
              "    <tr>\n",
              "      <th>3</th>\n",
              "      <td>115.0</td>\n",
              "      <td>175.0</td>\n",
              "      <td>178.150558</td>\n",
              "    </tr>\n",
              "  </tbody>\n",
              "</table>\n",
              "</div>"
            ],
            "text/plain": [
              "        x      y      y_pred\n",
              "10   65.0  140.0  134.563197\n",
              "0    80.0  150.0  147.639405\n",
              "7    80.0  155.0  147.639405\n",
              "2    85.0  155.0  151.998141\n",
              "4    85.0  140.0  151.998141\n",
              "5    85.0  150.0  151.998141\n",
              "1    90.0  160.0  156.356877\n",
              "6    90.0  140.0  156.356877\n",
              "11  100.0  165.0  165.074349\n",
              "8   105.0  165.0  169.433086\n",
              "9   110.0  190.0  173.791822\n",
              "3   115.0  175.0  178.150558"
            ]
          },
          "metadata": {
            "tags": []
          },
          "execution_count": 169
        }
      ]
    },
    {
      "cell_type": "markdown",
      "metadata": {
        "id": "FZfKDj9OVWE0"
      },
      "source": [
        "Построим на одном графике исходные данные и теоретическую прямую, построенную по уравнению регрессии:"
      ]
    },
    {
      "cell_type": "code",
      "metadata": {
        "id": "V82ew1-jVWE3",
        "outputId": "502f7973-15c8-4689-8c23-a18a67df34ea"
      },
      "source": [
        "import matplotlib.pyplot as plt\n",
        "\n",
        "plt.scatter(df['x'], df['y'])\n",
        "plt.plot(df['x'], df['y_pred'])\n",
        "plt.xlabel('Площадь квартиры (кв. м.)')\n",
        "plt.ylabel('Цена квартиры (тыс. долларов.)')\n",
        "plt.show()"
      ],
      "execution_count": null,
      "outputs": [
        {
          "output_type": "display_data",
          "data": {
            "image/png": "[encoded data removed]",
            "text/plain": [
              "<matplotlib.figure.Figure at 0xd59e7a6240>"
            ]
          },
          "metadata": {
            "tags": []
          }
        }
      ]
    }
  ]
}