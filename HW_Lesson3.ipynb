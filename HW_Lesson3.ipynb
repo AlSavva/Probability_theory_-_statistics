{
 "cells": [
  {
   "cell_type": "markdown",
   "id": "variable-hearts",
   "metadata": {},
   "source": [
    "## <center>Практическое задание к лекции 3."
   ]
  },
  {
   "cell_type": "markdown",
   "id": "polish-network",
   "metadata": {},
   "source": [
    "**1. Даны значения зарплат из выборки выпускников: 100, 80, 75, 77, 89, 33, 45, 25, 65, 17, 30, 24, 57, 55, 70, 75, 65, 84, 90, 150. Посчитать (желательно без использования статистических методов наподобие std, var, mean):**  \n",
    "   **а) среднее арифметическое,**  \n",
    "   **б) среднее квадратичное отклонение,**  \n",
    "   **с) смещенную и несмещенную оценки дисперсий для данной выборки.**"
   ]
  },
  {
   "cell_type": "code",
   "execution_count": 21,
   "id": "introductory-manor",
   "metadata": {},
   "outputs": [],
   "source": [
    "import numpy as np\n",
    "from math import factorial"
   ]
  },
  {
   "cell_type": "code",
   "execution_count": 2,
   "id": "configured-methodology",
   "metadata": {},
   "outputs": [
    {
     "data": {
      "text/plain": [
       "array([100,  80,  75,  77,  89,  33,  45,  25,  65,  17,  30,  24,  57,\n",
       "        55,  70,  75,  65,  84,  90, 150])"
      ]
     },
     "execution_count": 2,
     "metadata": {},
     "output_type": "execute_result"
    }
   ],
   "source": [
    "arr=np.array([100, 80, 75, 77, 89, 33, 45, 25, 65, 17, 30, 24, 57, 55, 70, 75, 65, 84, 90, 150])\n",
    "arr"
   ]
  },
  {
   "cell_type": "markdown",
   "id": "democratic-warrior",
   "metadata": {},
   "source": [
    "a) Расчитаем среднее арифметическое по формуле: $\\displaystyle M(X)=\\frac{1}{n}\\sum^n_{i=1}x_i$"
   ]
  },
  {
   "cell_type": "code",
   "execution_count": 3,
   "id": "grateful-savings",
   "metadata": {},
   "outputs": [],
   "source": [
    "def mean_value(array):\n",
    "    return sum(array)/len(array)"
   ]
  },
  {
   "cell_type": "code",
   "execution_count": 4,
   "id": "engaged-order",
   "metadata": {},
   "outputs": [
    {
     "name": "stdout",
     "output_type": "stream",
     "text": [
      "Среднее арифметическое для данной выборки М(Х) =  65.30\n"
     ]
    }
   ],
   "source": [
    "print(f'Среднее арифметическое для данной выборки М(Х) = {mean_value(arr): .2f}')"
   ]
  },
  {
   "cell_type": "code",
   "execution_count": 5,
   "id": "interstate-cancellation",
   "metadata": {},
   "outputs": [
    {
     "data": {
      "text/plain": [
       "65.3"
      ]
     },
     "execution_count": 5,
     "metadata": {},
     "output_type": "execute_result"
    }
   ],
   "source": [
    "np.mean(arr)"
   ]
  },
  {
   "cell_type": "markdown",
   "id": "powered-transcription",
   "metadata": {},
   "source": [
    "б) Расчитаем среднее квадратичное отклонение выборки по формуле: $\\sigma=\\sqrt{\\frac{\\displaystyle\\sum^n_{i=1}(x_{i}-\\bar x)^2}{n}}$"
   ]
  },
  {
   "cell_type": "code",
   "execution_count": 12,
   "id": "hispanic-talent",
   "metadata": {},
   "outputs": [],
   "source": [
    "def mean_square_deviation(array):\n",
    "    square_dev=(array-mean_value(array))**2\n",
    "    return (sum(square_dev)/len(square_dev))**(1/2)"
   ]
  },
  {
   "cell_type": "code",
   "execution_count": 19,
   "id": "interim-convert",
   "metadata": {},
   "outputs": [
    {
     "name": "stdout",
     "output_type": "stream",
     "text": [
      "Среднее квадратичное отклонение для данной выборки SD =  30.8239\n"
     ]
    }
   ],
   "source": [
    "print(f'Среднее квадратичное отклонение для данной выборки SD = {mean_square_deviation(arr): .4f}')"
   ]
  },
  {
   "cell_type": "markdown",
   "id": "raising-vampire",
   "metadata": {},
   "source": [
    "Проверим с помощью функции std:  "
   ]
  },
  {
   "cell_type": "code",
   "execution_count": 14,
   "id": "saved-delay",
   "metadata": {},
   "outputs": [
    {
     "data": {
      "text/plain": [
       "30.823854398825596"
      ]
     },
     "execution_count": 14,
     "metadata": {},
     "output_type": "execute_result"
    }
   ],
   "source": [
    "np.std(arr)"
   ]
  },
  {
   "cell_type": "markdown",
   "id": "satisfactory-ghana",
   "metadata": {},
   "source": [
    "в) Расчитаем смещенную оценку дисперсии по формуле: $\\sigma^2=\\frac{\\displaystyle\\sum^n_{i=1}(x_{i}-\\bar x)^2}{n}$  \n",
    "а несмещённую по формуле: $\\sigma^2=\\frac{\\displaystyle\\sum^n_{i=1}(x_{i}-\\bar x)^2}{n-1}$"
   ]
  },
  {
   "cell_type": "code",
   "execution_count": 15,
   "id": "former-authority",
   "metadata": {},
   "outputs": [],
   "source": [
    "def dispers(array, no_off=False):\n",
    "#аргумент no_off отвечает за расчет смещенной, или несмещенной оценки дисперсии. По умолчанио расчитывается смещенная.#\n",
    "    square_dev=(array-mean_value(array))**2\n",
    "    return sum(square_dev)/(len(square_dev)-1) if no_off else sum(square_dev)/len(square_dev)"
   ]
  },
  {
   "cell_type": "code",
   "execution_count": 20,
   "id": "white-absence",
   "metadata": {},
   "outputs": [
    {
     "name": "stdout",
     "output_type": "stream",
     "text": [
      "Смещенная оценка дисперсии для данной выборки D =  950.1100\n",
      "Немещенная оценка дисперсии для данной выборки D =  1000.1158\n"
     ]
    }
   ],
   "source": [
    "print(f'Смещенная оценка дисперсии для данной выборки D = {dispers(arr): .4f}\\n'\n",
    "      f'Немещенная оценка дисперсии для данной выборки D = {dispers(arr, True): .4f}'\n",
    "     )"
   ]
  },
  {
   "cell_type": "markdown",
   "id": "standing-access",
   "metadata": {},
   "source": [
    "Проверим с помощью функции var:"
   ]
  },
  {
   "cell_type": "code",
   "execution_count": 17,
   "id": "typical-scoop",
   "metadata": {},
   "outputs": [
    {
     "data": {
      "text/plain": [
       "950.11"
      ]
     },
     "execution_count": 17,
     "metadata": {},
     "output_type": "execute_result"
    }
   ],
   "source": [
    "np.var(arr)"
   ]
  },
  {
   "cell_type": "code",
   "execution_count": 18,
   "id": "confidential-monster",
   "metadata": {
    "scrolled": true
   },
   "outputs": [
    {
     "data": {
      "text/plain": [
       "1000.1157894736842"
      ]
     },
     "execution_count": 18,
     "metadata": {},
     "output_type": "execute_result"
    }
   ],
   "source": [
    "np.var(arr, ddof=1)"
   ]
  },
  {
   "cell_type": "markdown",
   "id": "corresponding-editor",
   "metadata": {},
   "source": [
    "---  \n",
    "#### Ответ:  \n",
    "а) $М(Х)= 65.30$;  \n",
    "б) $\\sigma = 30.8239$;  \n",
    "в) $\\sigma^2_{\\text{смещ}}=950.11$, $\\sigma^2_{\\text{несмещ}}=1000.1158$.  \n",
    "\n",
    "---"
   ]
  },
  {
   "cell_type": "markdown",
   "id": "compound-batch",
   "metadata": {},
   "source": [
    "**2. В первом ящике находится 8 мячей, из которых 5 - белые. Во втором ящике - 12 мячей, из которых 5 белых. Из первого ящика вытаскивают случайным образом два мяча, из второго - 4. Какова вероятность того, что 3 мяча белые?**"
   ]
  },
  {
   "cell_type": "markdown",
   "id": "pleased-yeast",
   "metadata": {},
   "source": [
    "Пусть $A$-искомое событие \"из двух корзин вытащили 3 белых\" мяча. Тогда это событие может произойти следующими способами:  \n",
    "   а) $A_1$ из первой корзины не вытащили ни одного белого мяча, из второй вытащили 3 белых мяча;  \n",
    "   б) $A_2$ из первой корзины вытащили 1 белый мяч, из второй вытащили 2 белых мяча;  \n",
    "   в) $A_3$ из первой корзины вытащили 2 белых мяча, из второй вытащили 1 белый мяч.  \n",
    "Вероятность события $A$ будет определяться как сумма вероятностей этих событий.  \n",
    "Определим вероятность события $A_1$:  \n",
    "$P(A_1)=\\frac{C^2_3}{C^2_8}\\cdot\\frac{C^3_5\\cdot C^1_7}{C^4_{12}}$"
   ]
  },
  {
   "cell_type": "code",
   "execution_count": 22,
   "id": "usual-pocket",
   "metadata": {},
   "outputs": [],
   "source": [
    "def combinations(n,k):\n",
    "    return factorial(n)/(factorial(k)*factorial(n-k))"
   ]
  },
  {
   "cell_type": "code",
   "execution_count": 31,
   "id": "liable-magnitude",
   "metadata": {},
   "outputs": [
    {
     "name": "stdout",
     "output_type": "stream",
     "text": [
      "Вероятность события \"из первой корзины не вытащили ни одного белого мяча, из второй вытащили 3 белых мяча\"\n",
      "P(A1) =  0.0152\n"
     ]
    }
   ],
   "source": [
    "P1=(combinations(3,2)/combinations(8,2))*(combinations(5,3)*combinations(7,1)/combinations(12,4))\n",
    "print(f'Вероятность события \"из первой корзины не вытащили ни одного белого мяча'\n",
    "      f', из второй вытащили 3 белых мяча\"\\nP(A1) = {P1: .4f}'\n",
    "     )"
   ]
  },
  {
   "cell_type": "markdown",
   "id": "vertical-encyclopedia",
   "metadata": {},
   "source": [
    "Определим вероятность события $A_2$:  \n",
    "$P(A_2)=\\frac{C^1_5\\cdot C^1_3}{C^2_8}\\cdot\\frac{C^2_5\\cdot C^2_7}{C^4_{12}}$"
   ]
  },
  {
   "cell_type": "code",
   "execution_count": 32,
   "id": "shared-assembly",
   "metadata": {},
   "outputs": [
    {
     "name": "stdout",
     "output_type": "stream",
     "text": [
      "Вероятность события \"из первой корзины вытащили 1 белый мяч, из второй вытащили 2 белых мяча\"\n",
      "P(A2) =  0.2273\n"
     ]
    }
   ],
   "source": [
    "P2=(combinations(5,1)*combinations(3,1)*combinations(5,2)*combinations(7,2))/(combinations(8,2)*combinations(12,4))\n",
    "print(f'Вероятность события \"из первой корзины вытащили 1 белый мяч'\n",
    "      f', из второй вытащили 2 белых мяча\"\\nP(A2) = {P2: .4f}'\n",
    "     )"
   ]
  },
  {
   "cell_type": "markdown",
   "id": "finite-jonathan",
   "metadata": {},
   "source": [
    "Определим вероятность события $A_3$:  \n",
    "$P(A_3)=\\frac{C^2_5}{C^2_8}\\cdot\\frac{C^1_5\\cdot C^3_7}{C^4_{12}}$"
   ]
  },
  {
   "cell_type": "code",
   "execution_count": 34,
   "id": "ongoing-appliance",
   "metadata": {},
   "outputs": [
    {
     "name": "stdout",
     "output_type": "stream",
     "text": [
      "Вероятность события \"из первой корзины вытащили 2 белых мяча, из второй вытащили 1 белый мяч\"\n",
      "P(A2) =  0.1263\n"
     ]
    }
   ],
   "source": [
    "P3=(combinations(5,2)*combinations(5,1)*combinations(7,3))/(combinations(8,2)*combinations(12,4))\n",
    "print(f'Вероятность события \"из первой корзины вытащили 2 белых мяча'\n",
    "      f', из второй вытащили 1 белый мяч\"\\nP(A2) = {P3: .4f}'\n",
    "     )"
   ]
  },
  {
   "cell_type": "markdown",
   "id": "frank-serum",
   "metadata": {},
   "source": [
    "Вычислим $P(A)=P(A_1+A_2+A_3)=P(A_1)+P(A_2)+P(A_3)$"
   ]
  },
  {
   "cell_type": "code",
   "execution_count": 35,
   "id": "recreational-cinema",
   "metadata": {},
   "outputs": [
    {
     "name": "stdout",
     "output_type": "stream",
     "text": [
      "Вероятность того, что из вытащенных мячей 3 белые Р(А) =  0.3687\n"
     ]
    }
   ],
   "source": [
    "print(f'Вероятность того, что из вытащенных мячей 3 белые Р(А) = {P1+P2+P3: .4f}')"
   ]
  },
  {
   "cell_type": "markdown",
   "id": "settled-content",
   "metadata": {},
   "source": [
    "---  \n",
    "#### Ответ:  \n",
    "Вероятность того, что 3 мяча белые $P(A)\\approx 0.3687\\approx 36.87\\%$  \n",
    "\n",
    "---"
   ]
  },
  {
   "cell_type": "markdown",
   "id": "numerical-boxing",
   "metadata": {},
   "source": [
    "**3. На соревновании по биатлону один из трех спортсменов стреляет и попадает в мишень. Вероятность попадания для первого спортсмена равна 0.9, для второго — 0.8, для третьего — 0.6. Найти вероятность того, что выстрел произведен:**  \n",
    "   **a) первым спортсменом;**  \n",
    "   **б) вторым спортсменом;**  \n",
    "   **в) третьим спортсменом.**"
   ]
  },
  {
   "cell_type": "markdown",
   "id": "binary-fifteen",
   "metadata": {},
   "source": [
    "Рассмотрим следующие события:  \n",
    "$A$-в результате выстрела, цель поражена;  \n",
    "$B_1$ выстрел произведен первым спортсменом;  \n",
    "$B_2$ выстрел произведен вторым спортсменом;  \n",
    "$B_3$ выстрел произведен третьим спортсменом.  \n",
    "Вероятности того, что выстрел произведен определенным спортсменом равны, т.к. выстрел 1, и произвести его могут только 3 этих спортсмена, т.е. события $B_1, B_2, B_3$ составляют полную группу событий.  \n",
    "$\\Rightarrow P(B_1)=P(B_2)=P(B_3)=\\frac{1}{3}$,  \n",
    "Вероятность того, что произошло событие $A$, при условии наступления события $B_n$ даны в условии задачи, т.е. $P_{B_1}(A)=0.9, P_{B_2}(A)=0.8, P_{B_3}(A)=0.6$, и, по формуле **полной** вероятности, вероятность наступления события $A$ - $P(A)=P(B_1)\\cdot P_{B_1}(A)+P(B_2)\\cdot P_{B_2}(A)+P(B_3)\\cdot P_{B_3}(A)=\\frac{1}{3}\\cdot 0.9+\\frac{1}{3}\\cdot 0.8+\\frac{1}{3}\\cdot 0.6$  "
   ]
  },
  {
   "cell_type": "code",
   "execution_count": 36,
   "id": "listed-thousand",
   "metadata": {},
   "outputs": [
    {
     "name": "stdout",
     "output_type": "stream",
     "text": [
      "Полная вероятность наступления события А Р(А) =  0.7667\n"
     ]
    }
   ],
   "source": [
    "PB=1/3\n",
    "PA=PB*0.9+PB*0.8+PB*0.6\n",
    "print(f'Полная вероятность наступления события А Р(А) = {PA: .4f}')"
   ]
  },
  {
   "cell_type": "markdown",
   "id": "considerable-police",
   "metadata": {},
   "source": [
    "Теперь, исходя из того, что событие $A$ уже произошло, с помощью формулы **Байеса** оценим вероятность того, что имело место одно из событий $B_n$  \n",
    "$P_A(B_n)=\\frac{P(B_n)\\cdot P_{B_n}(A)}{P(A)}\\Rightarrow\\\\P_A(B_1)=\\frac{\\frac{1}{3}\\cdot 0.9}{0.7667}\\\\P_A(B_2)=\\frac{\\frac{1}{3}\\cdot 0.8}{0.7667}\\\\P_A(B_1)=\\frac{\\frac{1}{3}\\cdot 0.6}{0.7667}$  \n"
   ]
  },
  {
   "cell_type": "code",
   "execution_count": 38,
   "id": "miniature-assumption",
   "metadata": {},
   "outputs": [
    {
     "name": "stdout",
     "output_type": "stream",
     "text": [
      "Вероятность того, что выстрел произвёл первый спортсмен:  0.3913;\n",
      "Вероятность того, что выстрел произвёл второй спортсмен:  0.3478;\n",
      "Вероятность того, что выстрел произвёл третий спортсмен:  0.260870.\n"
     ]
    }
   ],
   "source": [
    "PAB1=PB*0.9/PA\n",
    "PAB2=PB*0.8/PA\n",
    "PAB3=PB*0.6/PA\n",
    "print(f'Вероятность того, что выстрел произвёл первый спортсмен: {PAB1: .4f};\\n'\n",
    "      f'Вероятность того, что выстрел произвёл второй спортсмен: {PAB2: .4f};\\n'\n",
    "      f'Вероятность того, что выстрел произвёл третий спортсмен: {PAB3: .4f}.'\n",
    "     )"
   ]
  },
  {
   "cell_type": "markdown",
   "id": "painful-rescue",
   "metadata": {},
   "source": [
    "---\n",
    "#### Ответ:  \n",
    "а) Вероятность того, что выстрел произвёл первый спортсмен:  $P_{A}(B_1)\\approx0.3913\\approx39.13\\%$;  \n",
    "б) Вероятность того, что выстрел произвёл второй спортсмен:  $P_{A}(B_2)\\approx0.3478\\approx34.78\\%$;  \n",
    "в) Вероятность того, что выстрел произвёл третий спортсмен:  $P_{A}(B_3)\\approx0.2609\\approx26.09\\%$.    \n",
    "\n",
    "---"
   ]
  },
  {
   "cell_type": "markdown",
   "id": "prescription-memphis",
   "metadata": {},
   "source": [
    "**4. В университет на факультеты A и B поступило равное количество студентов, а на факультет C студентов поступило столько же, сколько на A и B вместе. Вероятность того, что студент факультета A сдаст первую сессию, равна 0.8. Для студента факультета B эта вероятность равна 0.7, а для студента факультета C - 0.9. Студент сдал первую сессию. Какова вероятность, что он учится:**  \n",
    "   **a) на факультете A;**  \n",
    "   **б) на факультете B;**    \n",
    "   **в) на факультете C?**  "
   ]
  },
  {
   "cell_type": "markdown",
   "id": "front-hypothesis",
   "metadata": {},
   "source": [
    "Пусть $n$ - количество студентов на факультете $A$, тогда на факультете $B$ учится $n$ студентов, а на факультете $C$ $2n$ студентов.  \n",
    "Введем события $S_A, S_B, S_C$, что сессию сдаёт студент факультетов $A$, $B$, и $С$ соответственно, и событие $D$-сессия сдана.  \n",
    "события $S_A$, $S_B$, и $S_С$ образуют полную группу событий, $\\Rightarrow P(S_A)+P(S_B)+P(S_C)=1$  \n",
    "T.e. $\\frac{1}{n}+\\frac{1}{n}+\\frac{1}{2n}=1\\\\n=2.5\\\\\\Rightarrow P(S_A)=\\frac{1}{n}=0.25, P(S_B)=\\frac{1}{n}=0.25, P(S_C)=\\frac{1}{2n}=0.5$  \n",
    "Условные вероятности Наступления события $D$, при условии что произошло одно из событий $S_n$ даны в условии задачи.  \n",
    "Полная вероятность наступления события $D$ исходя из формулы **полной** вероятности:  \n",
    "$P(D)=0.25\\cdot 0.8+0.25\\cdot 0.7+0.5\\cdot 0.9$  "
   ]
  },
  {
   "cell_type": "code",
   "execution_count": 40,
   "id": "unexpected-temple",
   "metadata": {},
   "outputs": [
    {
     "name": "stdout",
     "output_type": "stream",
     "text": [
      "Полная вероятность наступления события D, P(D) = 0.825.\n"
     ]
    }
   ],
   "source": [
    "PD=0.25*0.8+0.25*0.7+0.5*0.9\n",
    "print(f'Полная вероятность наступления события D, P(D) = {PD}.')"
   ]
  },
  {
   "cell_type": "markdown",
   "id": "attractive-injection",
   "metadata": {},
   "source": [
    "По формуле **Байеса** вычислим вероятность того, на каком факультете учится студент, успешно сдавший сессию.  \n",
    "$P_D(S_A)=\\frac{P(S_A)\\cdot P_{S_A}(D)}{P(D)}$ студент учится на факультете А  \n",
    "$P_D(S_B)=\\frac{P(S_B)\\cdot P_{S_B}(D)}{P(D)}$ студент учится на факультете В  \n",
    "$P_D(S_C)=\\frac{P(S_C)\\cdot P_{S_C}(D)}{P(D)}$ студент учится на факультете С"
   ]
  },
  {
   "cell_type": "code",
   "execution_count": 43,
   "id": "careful-correction",
   "metadata": {},
   "outputs": [
    {
     "name": "stdout",
     "output_type": "stream",
     "text": [
      "Вероятность того, что студент учится на факультете А:  0.2424;\n",
      "Вероятность того, что студент учится на факультете B:  0.2121;\n",
      "Вероятность того, что студент учится на факультете C:  0.5455.\n"
     ]
    }
   ],
   "source": [
    "PDSA=0.25*0.8/PD\n",
    "PDSB=0.25*0.7/PD\n",
    "PDSC=0.5*0.9/PD\n",
    "print(f'Вероятность того, что студент учится на факультете А: {PDSA: .4f};\\n'\n",
    "      f'Вероятность того, что студент учится на факультете B: {PDSB: .4f};\\n'\n",
    "      f'Вероятность того, что студент учится на факультете C: {PDSC: .4f}.'\n",
    "      )"
   ]
  },
  {
   "cell_type": "markdown",
   "id": "growing-omega",
   "metadata": {},
   "source": [
    "---  \n",
    "#### Ответ:  \n",
    "Вероятность того, что студент учится на факультете А:  $P_D(S_A)\\approx0.2424\\approx24.24\\%$;  \n",
    "Вероятность того, что студент учится на факультете B:  $P_D(S_B)\\approx0.2121\\approx21.21\\%$;  \n",
    "Вероятность того, что студент учится на факультете C:  $P_D(S_C)\\approx0.5455\\approx54.55\\%$.  \n",
    "\n",
    "---"
   ]
  },
  {
   "cell_type": "markdown",
   "id": "norwegian-assembly",
   "metadata": {},
   "source": [
    "**5. Устройство состоит из трех деталей. Для первой детали вероятность выйти из строя в первый месяц равна 0.1, для второй - 0.2, для третьей - 0.25. Какова вероятность того, что в первый месяц выйдут из строя:**  \n",
    "   **а) все детали;**  \n",
    "   **б) только две детали;**  \n",
    "   **в) хотя бы одна деталь;**  \n",
    "   **г) от одной до двух деталей?**"
   ]
  },
  {
   "cell_type": "markdown",
   "id": "allied-allowance",
   "metadata": {},
   "source": [
    "Введем следующие события:  \n",
    "   а) Событие $A_1$-вышла из строя первая деталь, по условию задачи-вероятность этого события: $P(A_1)=0.1$;  \n",
    "   б) Событие $\\bar A_1$-противоположное событию $A_1$ - первая деталь не вышла из строя, вероятность этого события: $P(\\bar A_1)=1-P(A_1)=1-0.1=0,9$;  \n",
    "   в) Событие $A_2$-вышла из строя вторая деталь, по условию задачи-вероятность этого события: $P(A_2)=0.2$;  \n",
    "   г)  Событие $\\bar A_2$-противоположное событию $A_2$ - вторая деталь не вышла из строя, вероятность этого события: $P(\\bar A_2)=1-P(A_2)=1-0.2=0,8$;  \n",
    "   д) Событие $A_3$-вышла из строя первая деталь, по условию задачи-вероятность этого события: $P(A_3)=0.25$;  \n",
    "   е) Событие $\\bar A_3$-противоположное событию $A_3$ - третья деталь не вышла из строя, вероятность этого события: $P(\\bar A_3)=1-P(A_3)=1-0.25=0,9$;  \n",
    "   \n",
    "\n",
    "---  \n",
    "а) Для того, чтобы произошло событие \"вышли из строя все детали\", необходимо, чтобы **одновременно** произошли события $A_1$, $A_2$, и $A_3$. А вероятностью этого события $P(3)$ будет произведением вероятностей этих событий.  \n",
    "$P(3)=P(A_1)\\cdot P(A_2)\\cdot P(A_3)=0.1\\cdot 0.2\\cdot 0.25$"
   ]
  },
  {
   "cell_type": "code",
   "execution_count": 5,
   "id": "indie-refund",
   "metadata": {},
   "outputs": [
    {
     "name": "stdout",
     "output_type": "stream",
     "text": [
      "Вероятность того, что из строя выйдут все детали Р(3) =  0.0050\n"
     ]
    }
   ],
   "source": [
    "P3=0.1*0.2*0.25\n",
    "print(f'Вероятность того, что из строя выйдут все детали Р(3) = {P3: .4f}')"
   ]
  },
  {
   "cell_type": "markdown",
   "id": "still-lloyd",
   "metadata": {},
   "source": [
    "---  \n",
    "б) Для того, чтобы произошло событие  \"вышли из строя 2 детали\", необходимо что бы случилось **одна из** следующих комбинаций событий:  \n",
    "   1. Произошли события $A_1$ **и** $A_2$ **и** $\\bar A_3$;  \n",
    "   2. Произошли события $A_1$ **и** $A_3$ **и** $\\bar A_2$;  \n",
    "   3. Произошли события $A_2$ **и** $A_3$ **и** $\\bar A_1$.  \n",
    "   \n",
    "А вероятностью этого события  $P(2)$  будет **суммой** вероятностей этих комбинаций событий.  \n",
    "$P(2)=P(A_1)\\cdot P(A_2)\\cdot P(\\bar A_3)+P(A_1)\\cdot P(A_3)\\cdot P(\\bar A_2)+P(A_2)\\cdot P(A_3)\\cdot P(\\bar A_1)=0.1\\cdot 0.2\\cdot 0.75+0.1\\cdot 0.25\\cdot 0.8+0.2\\cdot 0.25\\cdot 0.9$"
   ]
  },
  {
   "cell_type": "code",
   "execution_count": 7,
   "id": "intermediate-canon",
   "metadata": {},
   "outputs": [
    {
     "name": "stdout",
     "output_type": "stream",
     "text": [
      "Вероятность того, что из строя выйдут только 2 детали Р(2) =  0.0800\n"
     ]
    }
   ],
   "source": [
    "P2=0.1*0.2*0.75+0.1*0.25*0.8+0.2*0.25*0.9\n",
    "print(f'Вероятность того, что из строя выйдут только 2 детали Р(2) = {P2: .4f}')"
   ]
  },
  {
   "cell_type": "markdown",
   "id": "damaged-breakfast",
   "metadata": {},
   "source": [
    "---  \n",
    "в) Событие \"выйдет из строя хотя бы одна деталь\" можно рассмотреть как противоположное событию \"не вышло из строя ни одной детали\".   \n",
    "Пусть $P(0)$ вероятность события \"не вышло из строя ни одной детали\". Данное событие может произойти при одновременном наступлении событий $\\bar A_1$, $\\bar A_2$, и $\\bar A_3$.  \n",
    "$P(0)=P(\\bar A_1)\\cdot P(\\bar A_2)\\cdot P(\\bar A_3)=0.9*0.8*0.75$"
   ]
  },
  {
   "cell_type": "code",
   "execution_count": 9,
   "id": "elder-copper",
   "metadata": {},
   "outputs": [
    {
     "name": "stdout",
     "output_type": "stream",
     "text": [
      "Вероятность того, что из строя не выйдет ни одной детали Р(0) =  0.5400\n"
     ]
    }
   ],
   "source": [
    "P0=0.9*0.8*0.75\n",
    "print(f'Вероятность того, что из строя не выйдет ни одной детали Р(0) = {P0: .4f}')"
   ]
  },
  {
   "cell_type": "markdown",
   "id": "demonstrated-foundation",
   "metadata": {},
   "source": [
    "Тогда вероятность события \"выйдет из строя хотя бы одна деталь\" $P(\\ge 1)=1-P(0)$"
   ]
  },
  {
   "cell_type": "code",
   "execution_count": 10,
   "id": "quality-reviewer",
   "metadata": {},
   "outputs": [
    {
     "name": "stdout",
     "output_type": "stream",
     "text": [
      "Вероятность того, что выйдет из строя хотя бы одна деталь Р(>=1) =  0.4600\n"
     ]
    }
   ],
   "source": [
    "P_0=1-P0\n",
    "print(f'Вероятность того, что выйдет из строя хотя бы одна деталь Р(>=1) = {P_0: .4f}')"
   ]
  },
  {
   "cell_type": "markdown",
   "id": "parental-stocks",
   "metadata": {},
   "source": [
    "---  \n",
    "г) Событие \"из строя выйдут от одной до двух деталей\" произойдет при наступлении события \"из строя выйдет одна деталь\" **или** из строя выйдут 2 детали, следовательно его вероятность будет равна сумме вероятностей этих событий: $P(1,2)=P(1)+P(2)$  \n",
    "$P(2)=0.08$, найдем $P(1)$:  \n",
    "  \n",
    "<u>**Способ 1:**</u>  \n",
    "  \n",
    "Для того, чтобы произошло событие  \"из строя выйдет одна деталь\", необходимо что бы случилось **одна из** следующих комбинаций событий:  \n",
    "   1. Произошли события $A_1$ **и** $\\bar A_2$ **и** $\\bar A_3$;  \n",
    "   2. Произошли события $A_2$ **и** $\\bar A_1$ **и** $\\bar A_3$;  \n",
    "   3. Произошли события $A_3$ **и** $\\bar A_1$ **и** $\\bar A_2$.  \n",
    "   \n",
    "А вероятностью этого события  $P(1)$  будет **суммой** вероятностей этих комбинаций событий.  \n",
    "$P(1)=P(A_1)\\cdot P(\\bar A_2)\\cdot P(\\bar A_3)+P(A_2)\\cdot P(\\bar A_1)\\cdot P(\\bar A_3)+P(A_3)\\cdot P(\\bar A_1)\\cdot P(\\bar A_2)=0.1\\cdot 0.8\\cdot 0.75+0.2\\cdot 0.9\\cdot 0.75+0.25\\cdot 0.9\\cdot 0.8$  \n",
    "---"
   ]
  },
  {
   "cell_type": "code",
   "execution_count": 15,
   "id": "swedish-citation",
   "metadata": {},
   "outputs": [
    {
     "name": "stdout",
     "output_type": "stream",
     "text": [
      "Вероятность того, что выйдет из строя одна деталь Р(1) =  0.3750\n"
     ]
    }
   ],
   "source": [
    "P1=0.1*0.8*0.75+0.2*0.9*0.75+0.25*0.9*0.8\n",
    "print(f'Вероятность того, что выйдет из строя одна деталь Р(1) = {P1: .4f}')"
   ]
  },
  {
   "cell_type": "markdown",
   "id": "received-authorization",
   "metadata": {},
   "source": [
    "<u>**Способ 2:**</u>  \n",
    "  \n",
    "События \"не выйдет из строя ни одной детали\", \"из строя выйдет одна деталь\", \"из строя выйдет 2 детали\", \"из строя выйдут все детали\" - **несовместны**, и образуют полную группу событий, поэтому сумма вероятностей наступления этих событий равна $1$.  \n",
    "$P(0)+P(1)+P(2)+P(3)=1\\\\0.54+P(1)+0.08+0.005=1\\\\P(1)=0.375$  \n",
    "---"
   ]
  },
  {
   "cell_type": "markdown",
   "id": "upper-round",
   "metadata": {},
   "source": [
    "$P(1,2)=P(1)+P(2)=0.375+0.08=0.455$  \n",
    "  \n",
    "---  \n",
    "#### Ответ:  \n",
    "а)  Вероятность того что в первый месяц выйдут из строя все детали $P(3)=0.005=0.50\\%$  \n",
    "б)  Вероятность того что в первый месяц выйдут из строя 2 детали $P(2)=0.08=8.00\\%$  \n",
    "в)  Вероятность того что в первый месяц выйдут из строя хотя бы одна деталь $P(\\ge 1)=0.46=46.00\\%$  \n",
    "г)  Вероятность того что в первый месяц выйдут из строя от одной до двух деталей $P(1,2)=0.455=45.50\\%$  \n",
    "\n",
    "---"
   ]
  },
  {
   "cell_type": "code",
   "execution_count": null,
   "id": "elder-agency",
   "metadata": {},
   "outputs": [],
   "source": []
  }
 ],
 "metadata": {
  "kernelspec": {
   "display_name": "Python 3",
   "language": "python",
   "name": "python3"
  },
  "language_info": {
   "codemirror_mode": {
    "name": "ipython",
    "version": 3
   },
   "file_extension": ".py",
   "mimetype": "text/x-python",
   "name": "python",
   "nbconvert_exporter": "python",
   "pygments_lexer": "ipython3",
   "version": "3.8.5"
  }
 },
 "nbformat": 4,
 "nbformat_minor": 5
}
