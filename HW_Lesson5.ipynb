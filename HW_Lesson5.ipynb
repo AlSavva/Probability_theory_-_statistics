{
 "cells": [
  {
   "cell_type": "markdown",
   "id": "monthly-silver",
   "metadata": {},
   "source": [
    "## <center>Практическое задание к лекции 5."
   ]
  },
  {
   "cell_type": "markdown",
   "id": "after-champagne",
   "metadata": {},
   "source": [
    "**1. Известно, что генеральная совокупность распределена нормально, со средним квадратическим отклонением, $\\displaystyle\\sigma=16$. Найти доверительный интервал для оценки математического ожидания с надежностью $0.95$, если выборочная средняя $M=80$, а объем выборки $n=256$.**"
   ]
  },
  {
   "cell_type": "markdown",
   "id": "linear-justice",
   "metadata": {},
   "source": [
    "Поскольку нам известно среднее квадратическое отклонение генеральной совокупности $\\sigma=16$, то для расчета $95\\%$-го доверительного интервала, будем использовать $Z$-критерий. И границы доверительного интервала расчитаем по формуле:  \n",
    "$\\displaystyle\\bar X\\pm z_{\\alpha/2}\\cdot\\frac{\\sigma}{\\sqrt n}$, где:  \n",
    "$\\bar X=M=80$-среднее значение выборки    \n",
    "$z_{\\alpha/2}$ табличное значение $Z$-критерия, и для $95\\%$-го доверительного интервала $z_{\\alpha/2}=1,96$  \n",
    "$\\sigma=16$-среднее квадратическое отклонение генеральной совокупности  \n",
    "$n=256$-объем выборки  \n",
    "Таким образом $95\\%$-й доверительный интервал расчитаем как: $\\left[80-1.96\\cdot\\frac{16}{\\sqrt 256};80+1.96\\cdot\\frac{16}{\\sqrt 256}\\right]$ "
   ]
  },
  {
   "cell_type": "code",
   "execution_count": 1,
   "id": "legendary-justice",
   "metadata": {},
   "outputs": [
    {
     "name": "stdout",
     "output_type": "stream",
     "text": [
      "95%-й доверительный интервал для оценки мат. ожидания генеральной совокупности: [78.04;81.96].\n"
     ]
    }
   ],
   "source": [
    "left=80-1.96*16/256**(1/2)\n",
    "right=80+1.96*16/256**(1/2)\n",
    "print(f'95%-й доверительный интервал для оценки мат. ожидания генеральной совокупности: [{left};{right}].')"
   ]
  },
  {
   "cell_type": "markdown",
   "id": "handed-columbus",
   "metadata": {},
   "source": [
    "---  \n",
    "#### Ответ:  \n",
    "$\\left[78.04;81.96\\right]$  \n",
    "\n",
    "---"
   ]
  },
  {
   "cell_type": "markdown",
   "id": "going-audit",
   "metadata": {},
   "source": [
    "**2. В результате 10 независимых измерений некоторой величины X, выполненных с одинаковой точностью, получены опытные данные: 6.9, 6.1, 6.2, 6.8, 7.5, 6.3, 6.4, 6.9, 6.7, 6.1 Предполагая, что результаты измерений подчинены нормальному закону распределения вероятностей, оценить истинное значение величины X при помощи доверительного интервала, покрывающего это значение с доверительной вероятностью 0,95.**"
   ]
  },
  {
   "cell_type": "markdown",
   "id": "classical-metadata",
   "metadata": {},
   "source": [
    "Поскольку из условия задачи нам ничего не известно ни о мат. ожидании генеральной совокупности ни о среднем квадратическом отклонении для генеральной совокупности, то для расчета $95\\%$-го доверительного интервала будем использовать $t$-критерий,  и формулу:  \n",
    "$\\displaystyle\\bar X\\pm t_{\\alpha/2}\\cdot\\frac{\\sigma_{несмещ}}{\\sqrt{n}}$, где  \n",
    "$\\sigma_{несмещ}$-несмещённое среднее квадратическое отклонение выборки,  \n",
    "$n$-размер выборки  \n",
    "Воспользуемся встроенными функциями библиотеки numpy:"
   ]
  },
  {
   "cell_type": "code",
   "execution_count": 5,
   "id": "undefined-classification",
   "metadata": {},
   "outputs": [],
   "source": [
    "import numpy as np"
   ]
  },
  {
   "cell_type": "code",
   "execution_count": 8,
   "id": "corresponding-residence",
   "metadata": {},
   "outputs": [
    {
     "name": "stdout",
     "output_type": "stream",
     "text": [
      "Среднее выборочное:  6.59,\n",
      "Размер выборки n=10,\n",
      "Среднее квадратическое отклонение по выборке(несмещенное):  0.45.\n"
     ]
    }
   ],
   "source": [
    "arr=np.array([6.9, 6.1, 6.2, 6.8, 7.5, 6.3, 6.4, 6.9, 6.7, 6.1])\n",
    "print(f'Среднее выборочное: {np.mean(arr): .2f},\\n'\n",
    "      f'Размер выборки n={len(arr)},\\n'\n",
    "      f'Среднее квадратическое отклонение по выборке(несмещенное): {np.std(arr, ddof=1): .2f}.'\n",
    "     )"
   ]
  },
  {
   "cell_type": "markdown",
   "id": "identified-blake",
   "metadata": {},
   "source": [
    "Для вычисления $t$-критерия воспользуемся библиотекой scipy"
   ]
  },
  {
   "cell_type": "code",
   "execution_count": 4,
   "id": "opening-desire",
   "metadata": {},
   "outputs": [],
   "source": [
    "import scipy.stats as stats"
   ]
  },
  {
   "cell_type": "code",
   "execution_count": 21,
   "id": "distant-cannon",
   "metadata": {
    "scrolled": true
   },
   "outputs": [
    {
     "name": "stdout",
     "output_type": "stream",
     "text": [
      "Табличное значение t-критерия для 95%-го доверительного интервала данной выборки:  2.262\n"
     ]
    }
   ],
   "source": [
    "def t_from_table(confidens, len_array):\n",
    "    alpha=(1-confidens)\n",
    "    return stats.t.ppf(1-alpha/2, len_array-1)\n",
    "print(f'Табличное значение t-критерия для 95%-го доверительного интервала данной выборки: {t_from_table(0.95, len(arr)): .3f}')"
   ]
  },
  {
   "cell_type": "markdown",
   "id": "computational-dealer",
   "metadata": {},
   "source": [
    "Итоговая функция для расчета доверительного интервала:"
   ]
  },
  {
   "cell_type": "code",
   "execution_count": 24,
   "id": "amateur-mount",
   "metadata": {},
   "outputs": [
    {
     "name": "stdout",
     "output_type": "stream",
     "text": [
      "95%-й доверительный интервал для истинного значения Х: (6.268, 6.912).\n"
     ]
    }
   ],
   "source": [
    "def confidens_int(arr, confidens):\n",
    "    return round(np.mean(arr)-t_from_table(confidens,len(arr))*np.std(arr, ddof=1)/len(arr)**0.5,3), \\\n",
    "           round(np.mean(arr)+t_from_table(confidens,len(arr))*np.std(arr, ddof=1)/len(arr)**0.5,3)\n",
    "\n",
    "print(f'95%-й доверительный интервал для истинного значения Х: {confidens_int(arr, 0.95)}.')"
   ]
  },
  {
   "cell_type": "markdown",
   "id": "suspended-messaging",
   "metadata": {},
   "source": [
    "---  \n",
    "#### Ответ:  \n",
    "$\\left[6.268;6.912\\right]$  \n",
    "\n",
    "---"
   ]
  },
  {
   "cell_type": "markdown",
   "id": "robust-brave",
   "metadata": {},
   "source": [
    "**3. Утверждается, что шарики для подшипников, изготовленные автоматическим станком, имеют средний диаметр 17 мм. Используя односторонний критерий с $\\alpha=0.05$ проверить эту гипотезу, если в выборке из $n=100$ шариков средний диаметр оказался равным 17.5 мм, а дисперсия известна и равна 4 кв.мм.**  "
   ]
  },
  {
   "cell_type": "markdown",
   "id": "french-tsunami",
   "metadata": {},
   "source": [
    "Сформулируем нулевую гипотезу:  \n",
    "$H0: \\mu=\\mu_0=17$, где $\\mu$ и $\\mu_0$ средние выборки и генеральной совокупности и выборки, соответственно.  \n",
    "Альтернативная гипотеза:  \n",
    "$H1: \\mu>\\mu_0$  \n",
    "Поскольку нам известны и среднее и дисперсия генеральной совокупности, то для проверки гипотезы будем использовать $z$-критерий.  \n",
    "$z_н=\\frac{\\bar X-\\mu_0}{\\sigma/\\sqrt n}$, где  \n",
    "$\\bar X=\\mu=17.5$ среднее по выборке,  \n",
    "$\\sigma=\\sqrt 4=2$ среднее квадратическое отклонение генеральной совокупности,  \n",
    "$n=100$ размер выборки.  "
   ]
  },
  {
   "cell_type": "code",
   "execution_count": 2,
   "id": "joint-champagne",
   "metadata": {},
   "outputs": [
    {
     "name": "stdout",
     "output_type": "stream",
     "text": [
      "Наблюдаемое значение z-критерия:  2.5000\n"
     ]
    }
   ],
   "source": [
    "z=(17.5-17)/0.2\n",
    "print(f'Наблюдаемое значение z-критерия: {z: .4f}')"
   ]
  },
  {
   "cell_type": "markdown",
   "id": "constitutional-equity",
   "metadata": {},
   "source": [
    "Найдем табличное значение $z$-критерия, для $\\alpha=0.05$"
   ]
  },
  {
   "cell_type": "code",
   "execution_count": 6,
   "id": "latin-oregon",
   "metadata": {},
   "outputs": [
    {
     "name": "stdout",
     "output_type": "stream",
     "text": [
      "Табличное значение z-критерия:  1.6449\n"
     ]
    }
   ],
   "source": [
    "zt=stats.norm.ppf(0.95)\n",
    "print(f'Табличное значение z-критерия: {zt: .4f}')"
   ]
  },
  {
   "cell_type": "markdown",
   "id": "regular-democracy",
   "metadata": {},
   "source": [
    "Сравним полученные значения: "
   ]
  },
  {
   "cell_type": "code",
   "execution_count": 7,
   "id": "individual-initial",
   "metadata": {
    "scrolled": true
   },
   "outputs": [
    {
     "data": {
      "text/plain": [
       "False"
      ]
     },
     "execution_count": 7,
     "metadata": {},
     "output_type": "execute_result"
    }
   ],
   "source": [
    "z<zt"
   ]
  },
  {
   "cell_type": "markdown",
   "id": "medieval-murder",
   "metadata": {},
   "source": [
    "Поскольку $z_н>z_t$, **отвергаем** нулевую гипотезу на уровне значимости $\\alpha=0.05$"
   ]
  },
  {
   "cell_type": "markdown",
   "id": "important-baseball",
   "metadata": {},
   "source": [
    "---  \n",
    "#### Ответ:  \n",
    "**Отвергаем** нулевую гипотезу $H0: \\mu_0=17$ на уровне значимости $\\alpha=0.05$  \n",
    "\n",
    "---"
   ]
  },
  {
   "cell_type": "markdown",
   "id": "convenient-fiber",
   "metadata": {},
   "source": [
    "**4. Продавец утверждает, что средний вес пачки печенья составляет 200 г. Из партии извлечена выборка из 10 пачек. Вес каждой пачки составляет: 202, 203, 199, 197, 195, 201, 200, 204, 194, 190. Известно, что их веса распределены нормально. Верно ли утверждение продавца, если учитывать, что доверительная вероятность равна 99%?**  "
   ]
  },
  {
   "cell_type": "markdown",
   "id": "adult-harassment",
   "metadata": {},
   "source": [
    "Из условия задачи следует что нужно проводить проверку следующих гипотез:  \n",
    "$H0: \\mu=\\mu_0=200$, где $\\mu$ и $\\mu_0$ средние выборки и генеральной совокупности и выборки, соответственно.  \n",
    "Альтернативная гипотеза:  \n",
    "$H1: \\mu\\neq\\mu_0$  \n",
    "при этом будем использовать **двусторонний** критерий c уровнем значимости $\\alpha=1-0.99=0.01$  \n",
    "Поскольку нам не известны ни среднее, ни дисперсия генеральной совокупности, то для проверки гипотезы будем использовать $t$-критерий.    "
   ]
  },
  {
   "cell_type": "code",
   "execution_count": 9,
   "id": "differential-cable",
   "metadata": {},
   "outputs": [],
   "source": [
    "cookies=np.array([202, 203, 199, 197, 195, 201, 200, 204, 194, 190])"
   ]
  },
  {
   "cell_type": "markdown",
   "id": "threatened-extreme",
   "metadata": {},
   "source": [
    "Расчитаем наблюдаемое значение t-критерия $t_н$"
   ]
  },
  {
   "cell_type": "code",
   "execution_count": 11,
   "id": "agricultural-rebound",
   "metadata": {},
   "outputs": [
    {
     "name": "stdout",
     "output_type": "stream",
     "text": [
      "Наблюдаемое значение t-критерия: -3.3682\n"
     ]
    }
   ],
   "source": [
    "tn=(np.mean(cookies)-200)/(np.std(cookies,ddof=1)/len(cookies))\n",
    "print(f'Наблюдаемое значение t-критерия: {tn: .4f}')"
   ]
  },
  {
   "cell_type": "markdown",
   "id": "junior-summer",
   "metadata": {},
   "source": [
    "Найдем табличное значение $t$-критерия $t_t$, для $\\alpha/2=0.01/2=0.005$"
   ]
  },
  {
   "cell_type": "code",
   "execution_count": 21,
   "id": "dental-sucking",
   "metadata": {},
   "outputs": [
    {
     "name": "stdout",
     "output_type": "stream",
     "text": [
      "Табличное значение t-критерия:  3.2498\n"
     ]
    }
   ],
   "source": [
    "tt=stats.t.ppf(0.995,len(cookies)-1)\n",
    "print(f'Табличное значение t-критерия: {tt: .4f}')"
   ]
  },
  {
   "cell_type": "markdown",
   "id": "hearing-importance",
   "metadata": {},
   "source": [
    "Сравним полученные значения (поскольку у нас двусторонний критерий, то используем абсолютное значение полученного t-критерия):"
   ]
  },
  {
   "cell_type": "code",
   "execution_count": 23,
   "id": "opened-phrase",
   "metadata": {},
   "outputs": [
    {
     "data": {
      "text/plain": [
       "False"
      ]
     },
     "execution_count": 23,
     "metadata": {},
     "output_type": "execute_result"
    }
   ],
   "source": [
    "np.abs(tn)<tt"
   ]
  },
  {
   "cell_type": "markdown",
   "id": "sudden-knife",
   "metadata": {},
   "source": [
    "Поскольку $|t_н|>t_t$, **отвергаем** нулевую гипотезу на уровне значимости $\\alpha=0.001$"
   ]
  },
  {
   "cell_type": "markdown",
   "id": "neural-railway",
   "metadata": {},
   "source": [
    "---  \n",
    "#### Ответ:  \n",
    "**Отвергаем** нулевую гипотезу $H0: \\mu_0=200$ на уровне значимости $\\alpha=0.001$  \n",
    "\n",
    "---"
   ]
  }
 ],
 "metadata": {
  "kernelspec": {
   "display_name": "Python 3",
   "language": "python",
   "name": "python3"
  },
  "language_info": {
   "codemirror_mode": {
    "name": "ipython",
    "version": 3
   },
   "file_extension": ".py",
   "mimetype": "text/x-python",
   "name": "python",
   "nbconvert_exporter": "python",
   "pygments_lexer": "ipython3",
   "version": "3.8.5"
  }
 },
 "nbformat": 4,
 "nbformat_minor": 5
}
